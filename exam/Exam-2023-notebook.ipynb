{
 "cells": [
  {
   "attachments": {},
   "cell_type": "markdown",
   "metadata": {},
   "source": [
    "**Table of contents**<a id='toc0_'></a>    \n",
    "- 1. [Problem 1: Optimal taxation with government consumption](#toc1_)    \n",
    "- 2. [Problem 2: Labor adjustment costs](#toc2_)    \n",
    "- 3. [Problem 3: Global optimizer with refined multi-start](#toc3_)    \n",
    "\n",
    "<!-- vscode-jupyter-toc-config\n",
    "\tnumbering=true\n",
    "\tanchor=true\n",
    "\tflat=false\n",
    "\tminLevel=2\n",
    "\tmaxLevel=6\n",
    "\t/vscode-jupyter-toc-config -->\n",
    "<!-- THIS CELL WILL BE REPLACED ON TOC UPDATE. DO NOT WRITE YOUR TEXT IN THIS CELL -->"
   ]
  },
  {
   "cell_type": "code",
   "execution_count": 116,
   "metadata": {},
   "outputs": [
    {
     "name": "stdout",
     "output_type": "stream",
     "text": [
      "The autoreload extension is already loaded. To reload it, use:\n",
      "  %reload_ext autoreload\n"
     ]
    }
   ],
   "source": [
    "# Magic reload\n",
    "%load_ext autoreload\n",
    "%autoreload 2\n",
    "\n",
    "# Import packages\n",
    "import numpy as np\n",
    "import matplotlib.pyplot as plt\n",
    "from scipy.optimize import minimize, root\n",
    "from problem1 import optimaltax\n",
    "from problem2 import hairsalon"
   ]
  },
  {
   "attachments": {},
   "cell_type": "markdown",
   "metadata": {},
   "source": [
    "## 1. <a id='toc1_'></a>[Problem 1: Optimal taxation with government consumption](#toc0_)"
   ]
  },
  {
   "attachments": {},
   "cell_type": "markdown",
   "metadata": {},
   "source": [
    "\n",
    "Consider a worker choosing hours of labor, $L\\in[0,24]$, to maximize utility: \n",
    "\n",
    "$$\n",
    "\\begin{align*}\n",
    "V(w,\\tau,G)&=\\max_{L\\in[0,24]}\\ln\\left(C^{\\alpha}G^{1-\\alpha}\\right)-\\nu\\frac{L^{2}}{2}\\\\&\\text{s.t.}\\\\&C=\\kappa+(1-\\tau)wL\n",
    "\\end{align*}\n",
    "$$\n",
    "\n",
    "where \n",
    "\n",
    "* $C$ is *private* consumption with weight $\\alpha\\in(0,1)$.\n",
    "* $\\kappa > 0$ is the *free private* consumption component.\n",
    "* $(1-\\tau)wL$ is the *costly private* consumption component.\n",
    "* $w > 0 $ is the real wage.\n",
    "* $\\tau \\in (0,1)$ is the labor-income tax rate.\n",
    "* $G > 0 $ is *government* consumption with weight $1-\\alpha$.\n",
    "* $\\nu > 0$ is the disutility of labor scaling factor"
   ]
  },
  {
   "attachments": {},
   "cell_type": "markdown",
   "metadata": {},
   "source": [
    "\n",
    "The baseline parameters are:\n",
    "\n",
    "$$\n",
    "\\begin{align*}\n",
    "\\alpha &= 0.5\\\\\n",
    "\\kappa &= 1.0\\\\\n",
    "\\nu &= \\frac{1}{2\\cdot16^2} \\\\\n",
    "w &= 1.0 \\\\ \n",
    "\\tau &= 0.30 \\\\\n",
    "\\end{align*}\n",
    "$$"
   ]
  },
  {
   "attachments": {},
   "cell_type": "markdown",
   "metadata": {},
   "source": [
    "**Question 1:** Verify that the optimal labor supply choice is $L^{\\star}(\\tilde{w}) =\\frac{-\\kappa+\\sqrt{\\kappa^{2}+4\\frac{\\alpha}{\\nu}\\tilde{w}^2}}{2\\tilde{w}}$, where $\\tilde{w} = (1-\\tau)w$, for $G\\in\\left\\{1.0 , 2.0\\right\\}$."
   ]
  },
  {
   "attachments": {},
   "cell_type": "markdown",
   "metadata": {},
   "source": [
    "Numeric and analytic solutions for G $\\in$ {1.0, 2.0}"
   ]
  },
  {
   "cell_type": "code",
   "execution_count": 35,
   "metadata": {},
   "outputs": [
    {
     "name": "stdout",
     "output_type": "stream",
     "text": [
      "Solution for G = 1.0\n",
      "Numeric solution:  15.3017\n",
      "Analytic solution: 15.3017\n",
      "\n",
      "Solution for G = 2.0\n",
      "Numeric solution:  15.3017\n",
      "Analytic solution: 15.3017\n"
     ]
    }
   ],
   "source": [
    "# Setup model for G = 1.0\n",
    "G = 1.0\n",
    "print('Solution for G =', G)\n",
    "model = optimaltax()\n",
    "model.par.G = G\n",
    "\n",
    "# Numeric solution\n",
    "print(f'Numeric solution:  {model.solve():.4f}')\n",
    "\n",
    "# Analytic solution\n",
    "w_tilde = model.par.w*(1-model.par.tau)\n",
    "print(f'Analytic solution: {model.analytic_solution(w_tilde):.4f}')\n",
    "\n",
    "\n",
    "\n",
    "\n",
    "# Setup model for G = 2.0\n",
    "print('')\n",
    "G = 2.0\n",
    "print('Solution for G =', G)\n",
    "model = optimaltax()\n",
    "model.par.G = G\n",
    "\n",
    "# Numeric solution\n",
    "print(f'Numeric solution:  {model.solve():.4f}')\n",
    "\n",
    "# Analytic solution\n",
    "w_tilde = model.par.w*(1-model.par.tau)\n",
    "print(f'Analytic solution: {model.analytic_solution(w_tilde):.4f}')"
   ]
  },
  {
   "attachments": {},
   "cell_type": "markdown",
   "metadata": {},
   "source": [
    "I verify that the numeric and analytic solutions are the same for G $\\in$ {1.0, 2.0}, and notice that the solution doesn't depend on G."
   ]
  },
  {
   "attachments": {},
   "cell_type": "markdown",
   "metadata": {},
   "source": [
    "**Question 2:** Illustrate how $L^{\\star}(\\tilde{w})$ depends on $w$."
   ]
  },
  {
   "cell_type": "code",
   "execution_count": 39,
   "metadata": {},
   "outputs": [
    {
     "data": {
      "image/png": "[encoded data removed]",
      "text/plain": [
       "<Figure size 640x480 with 1 Axes>"
      ]
     },
     "metadata": {},
     "output_type": "display_data"
    }
   ],
   "source": [
    "# Setup model for G = 1.0\n",
    "model = optimaltax()\n",
    "\n",
    "# Make w-grid and find corresponding L\n",
    "w_grid = np.linspace(0.5,1.5,20)\n",
    "w_tilde = w_grid*(1-model.par.tau)\n",
    "L_grid = model.analytic_solution(w_tilde)\n",
    "\n",
    "#Make figure of L(w)\n",
    "fig = plt.figure()\n",
    "ax = fig.add_subplot(1,1,1)\n",
    "ax.plot(w_grid,L_grid)\n",
    "ax.set_xlabel('$w$')\n",
    "ax.set_ylabel('$L$')\n",
    "ax.set_title('Labor supply as a function of the wage')\n",
    "plt.show()"
   ]
  },
  {
   "attachments": {},
   "cell_type": "markdown",
   "metadata": {},
   "source": [
    "\n",
    "We now consider a government, who chooses $\\tau$ and spend all of the taxes on government consumption so:\n",
    "\n",
    "$$\n",
    "G = \\tau w L^{\\star}((1-\\tau)w)\n",
    "$$\n",
    "\n",
    "**Question 3:** Plot the implied $L$, $G$ and worker utility for a grid of $\\tau$-values.\n"
   ]
  },
  {
   "attachments": {},
   "cell_type": "markdown",
   "metadata": {},
   "source": [
    "I solve the model for a range of tau values, and plot the implied L, G and worker utility."
   ]
  },
  {
   "cell_type": "code",
   "execution_count": 45,
   "metadata": {},
   "outputs": [
    {
     "data": {
      "image/png": "[encoded data removed]",
      "text/plain": [
       "<Figure size 640x480 with 3 Axes>"
      ]
     },
     "metadata": {},
     "output_type": "display_data"
    }
   ],
   "source": [
    "# Setup model for G = 1.0\n",
    "model = optimaltax()\n",
    "\n",
    "# make tau-grid\n",
    "tau_grid = np.linspace(0.0,0.99,50)\n",
    "\n",
    "# Allocate\n",
    "L = np.empty_like(tau_grid)\n",
    "G = np.empty_like(tau_grid)\n",
    "U = np.empty_like(tau_grid)\n",
    "\n",
    "# Solve model for each tau\n",
    "for i, tau in enumerate(tau_grid):\n",
    "    model.par.tau = tau\n",
    "    w_tilde = model.par.w*(1-model.par.tau)\n",
    "    L[i] = model.analytic_solution(w_tilde)\n",
    "    G[i] = tau * model.par.w * L[i]\n",
    "    U[i] = model.utility(model.BC_implied_C(L[i]), G[i], L[i])\n",
    "    \n",
    "# Make figure of L(tau), G(tau) and U(tau)\n",
    "fig = plt.figure()\n",
    "ax = fig.add_subplot(2,2,1)\n",
    "ax.plot(tau_grid,L)\n",
    "ax.set_xlabel('$\\\\tau$')\n",
    "ax.set_title('Labor supply ')\n",
    "\n",
    "ax = fig.add_subplot(2,2,2)\n",
    "ax.plot(tau_grid,G)\n",
    "ax.set_xlabel('$\\\\tau$')\n",
    "ax.set_title('Government spending ')\n",
    "\n",
    "ax = fig.add_subplot(2,2,3)\n",
    "ax.plot(tau_grid,U)\n",
    "ax.set_xlabel('$\\\\tau$')\n",
    "ax.set_title('Worker utility')\n",
    "\n",
    "plt.tight_layout()\n",
    "plt.show()"
   ]
  },
  {
   "attachments": {},
   "cell_type": "markdown",
   "metadata": {},
   "source": [
    "**Question 4:** Find the socially optimal tax rate $\\tau^{\\star}\\in(0,1)$ maximizing worker utility. Illustrate your result."
   ]
  },
  {
   "attachments": {},
   "cell_type": "markdown",
   "metadata": {},
   "source": [
    "I find the socially optimal tax rate by maximizing worker utility, where I solve the model for each guess of tau. The socially optimal tax rate is illustrated in the figure above."
   ]
  },
  {
   "cell_type": "code",
   "execution_count": 53,
   "metadata": {},
   "outputs": [
    {
     "name": "stdout",
     "output_type": "stream",
     "text": [
      "Socially optimal tax rate: 0.5145\n"
     ]
    }
   ],
   "source": [
    "def objective(tau, model):\n",
    "    \"\"\" Objective function \"\"\"\n",
    "    # Update tau\n",
    "    model.par.tau = tau\n",
    "    \n",
    "    # Solve model\n",
    "    w_tilde = model.par.w*(1-model.par.tau)\n",
    "    L = model.analytic_solution(w_tilde)\n",
    "    \n",
    "    # Compute utility\n",
    "    U = model.utility(model.BC_implied_C(L), tau*model.par.w*L, L)\n",
    "    \n",
    "    return -U\n",
    "\n",
    "# Maximize utility\n",
    "res = minimize(objective, x0=0.3, args=(model), method='Nelder-Mead', bounds=[(0,1)], tol=1e-10)\n",
    "\n",
    "print(f'Socially optimal tax rate: {res.x[0]:.4f}')"
   ]
  },
  {
   "attachments": {},
   "cell_type": "markdown",
   "metadata": {},
   "source": [
    "A more general preference formulation for the worker is:\n",
    "\n",
    "$$\n",
    "\\begin{align*}\n",
    "\\mathcal{V}(w,\\tau,G)&=\\max_{L\\in[0,24]}\\frac{\\left[ \\left( \\alpha C^{\\frac{\\sigma-1}{\\sigma}}+(1-\\alpha) G^{\\frac{\\sigma-1}{\\sigma}} \\right)^{\\frac{\\sigma}{1-\\sigma} }\\right]^{1-\\rho}-1}{1-\\rho}- \\nu\\frac{L^{1+\\varepsilon}}{1+\\varepsilon},\\,\\,\\,\\varepsilon,\\rho,\\sigma>0,\\,\\,\\,\\rho,\\sigma\\neq1\\\\&\\text{s.t.}\\\\&C=\\kappa+(1-\\tau)wL\n",
    "\\end{align*}    \n",
    "$$\n",
    "\n",
    "Optimal labor supply is now $L^{\\star}(\\tilde{w},G)$."
   ]
  },
  {
   "attachments": {},
   "cell_type": "markdown",
   "metadata": {},
   "source": [
    "Questions 5 and 6 must be answered with the general formulation, and for 2 different set of parameters:\n",
    "\n",
    "- Set 1:  $\\sigma = 1.001$, $\\rho = 1.001$ and $\\varepsilon = 1.0$.\n",
    "- Set 2:  $\\sigma = 1.5$, $\\rho = 1.5$ and $\\varepsilon = 1.0 $."
   ]
  },
  {
   "attachments": {},
   "cell_type": "markdown",
   "metadata": {},
   "source": [
    "**Question 5:** Find the $G$ that solves $G = \\tau w L^{\\star}((1-\\tau)w,G)$ using the $\\tau$ found in question 4.\n",
    "\n",
    "*Hint: First write code that solves the worker problem for given values of $G$ and $\\tau$. Then find the correct G based on this.*"
   ]
  },
  {
   "cell_type": "code",
   "execution_count": 114,
   "metadata": {},
   "outputs": [
    {
     "name": "stdout",
     "output_type": "stream",
     "text": [
      "The G that solves the government consumption rule for set 1 is: 7.7108\n",
      "The G that solves the government consumption rule for set 2 is: 4.9750\n"
     ]
    }
   ],
   "source": [
    "############## Set 1 ##############\n",
    "model = optimaltax()\n",
    "model.par.tau = 0.5145\n",
    "model.par.sigma = 1.001\n",
    "model.par.rho = 1.001\n",
    "model.par.epsilon = 1.0\n",
    "\n",
    "def obj_G(G,model):\n",
    "    model.par.G = G\n",
    "    L = model.solve(type = 'complex')\n",
    "    new_G = model.par.tau * model.par.w * L\n",
    "    res = new_G - G\n",
    "    return res\n",
    "\n",
    "res = root(obj_G, x0=1.0, args=(model), method='broyden1', tol=1e-10)\n",
    "\n",
    "print(f'The G that solves the government consumption rule for set 1 is: {res.x:.4f}')\n",
    "\n",
    "############## Set 2 ##############\n",
    "model.par.sigma = 1.5\n",
    "model.par.rho = 1.5\n",
    "\n",
    "res = root(obj_G, x0=1.0, args=(model), method='broyden1', tol=1e-10)\n",
    "\n",
    "print(f'The G that solves the government consumption rule for set 2 is: {res.x:.4f}')"
   ]
  },
  {
   "attachments": {},
   "cell_type": "markdown",
   "metadata": {},
   "source": [
    "**Question 6:** Find the socially optimal tax rate, $\\tau^{\\star}$, maximizing worker utility, while keeping $G = \\tau w L^{\\star}((1-\\tau)w,G)$."
   ]
  },
  {
   "cell_type": "code",
   "execution_count": 115,
   "metadata": {},
   "outputs": [
    {
     "name": "stdout",
     "output_type": "stream",
     "text": [
      "The socially optimal tax rate for set 1 is: 0.5150\n",
      "The socially optimal tax rate for set 1 is: 0.5402\n"
     ]
    }
   ],
   "source": [
    "############## Set 1 ##############\n",
    "model=optimaltax()\n",
    "model.par.sigma = 1.001\n",
    "model.par.rho = 1.001\n",
    "model.par.epsilon = 1.0\n",
    "\n",
    "def objective6(x):\n",
    "    \"\"\" Objective function \"\"\"\n",
    "    \n",
    "    # Unpack x\n",
    "    tau, G = x\n",
    "    \n",
    "    # Update tau\n",
    "    model.par.tau = tau\n",
    "    \n",
    "    # Solve model\n",
    "    L = model.solve(type = 'complex')\n",
    "    \n",
    "    # Compute utility\n",
    "    U = model.utility(model.BC_implied_C(L), G, L)\n",
    "    \n",
    "    return -U\n",
    "\n",
    "# Maximize utility\n",
    "res = minimize(objective6, x0=(0.3,1.0), method='SLSQP', bounds=[(0,1),(0,np.inf)], constraints=[{'type':'eq', 'fun': lambda x: x[1] - x[0] * model.par.w * model.solve(type = 'complex')}], tol=1e-10)\n",
    "\n",
    "print(f'The socially optimal tax rate for set 1 is: {res.x[0]:.4f}')\n",
    "\n",
    "\n",
    "############## Set 2 ##############\n",
    "# Set parameters\n",
    "model.par.sigma = 1.5\n",
    "model.par.rho = 1.5\n",
    "\n",
    "# Maximize utility\n",
    "res = minimize(objective6, x0=(0.3,1.0), method='SLSQP', bounds=[(0,1),(0,np.inf)], constraints=[{'type':'eq', 'fun': lambda x: x[1] - x[0] * model.par.w * model.solve(type = 'complex')}], tol=1e-10)\n",
    "\n",
    "print(f'The socially optimal tax rate for set 2 is: {res.x[0]:.4f}')"
   ]
  },
  {
   "attachments": {},
   "cell_type": "markdown",
   "metadata": {},
   "source": [
    "## 2. <a id='toc2_'></a>[Problem 2: Labor adjustment costs](#toc0_)"
   ]
  },
  {
   "attachments": {},
   "cell_type": "markdown",
   "metadata": {},
   "source": [
    "You own a hair salon. You employ hairdressers, $\\ell_t$, to produce haircuts, $y_t = \\ell_t$.\n",
    "\n",
    "The wage for each haridresser is $w$.\n",
    "\n",
    "The demand for haircuts implies that the price of haircuts you can charge is $p_t = \\kappa_t y_t^{-\\eta}$, where $\\kappa_t$ is a demand-shock and $\\eta \\in (0,1)$ measures the elasticity of demand.\n",
    "\n",
    "Profits are:\n",
    "\n",
    "$$\n",
    "\\Pi_t = p_t y_t - w \\ell_t = \\kappa_t \\ell_t^{1-\\eta} - w \\ell_t\n",
    "$$"
   ]
  },
  {
   "attachments": {},
   "cell_type": "markdown",
   "metadata": {},
   "source": [
    "Baseline parameters are:\n",
    "- $\\eta = 0.5$\n",
    "- $w = 1.0$"
   ]
  },
  {
   "attachments": {},
   "cell_type": "markdown",
   "metadata": {},
   "source": [
    "**Question 1:** Verify numerically that $\\ell_{t}=\\left(\\frac{(1-\\eta)\\kappa_{t}}{w}\\right)^{\\frac{1}{\\eta}}$ maximises profits, for $\\kappa\\in\\left\\{1.0 , 2.0\\right\\}$."
   ]
  },
  {
   "cell_type": "code",
   "execution_count": 188,
   "metadata": {},
   "outputs": [
    {
     "name": "stdout",
     "output_type": "stream",
     "text": [
      "Solution for $\\kappa$ = 1.0\n",
      "Numeric solution:  0.2500\n",
      "Analytic solution: 0.2500\n",
      "\n",
      "Solution for $\\kappa$ = 2.0\n",
      "Numeric solution:  1.0000\n",
      "Analytic solution: 1.0000\n"
     ]
    },
    {
     "name": "stderr",
     "output_type": "stream",
     "text": [
      "/Users/ahj/Library/CloudStorage/OneDrive-Personal/Polit/10. semester/IntroProg/projects-2023-adamhjorgensen/exam/problem2.py:50: RuntimeWarning: invalid value encountered in sqrt\n",
      "  pi = kappa * L**(1-par.nu) - par.w * L - par.iota * (L != L_lag)\n"
     ]
    }
   ],
   "source": [
    "# Setup model for kappa = 1.0\n",
    "kappa = 1.0\n",
    "print('Solution for $\\kappa$ =', kappa)\n",
    "model = hairsalon()\n",
    "\n",
    "# Numeric solution\n",
    "print(f'Numeric solution:  {model.solve_static(kappa):.4f}')\n",
    "\n",
    "# Analytic solution\n",
    "print(f'Analytic solution: {model.analytic_solution(kappa):.4f}')\n",
    "\n",
    "\n",
    "\n",
    "\n",
    "# Setup model for kappa = 2.0\n",
    "print('')\n",
    "kappa = 2.0\n",
    "print('Solution for $\\kappa$ =', kappa)\n",
    "model = hairsalon()\n",
    "\n",
    "# Numeric solution\n",
    "print(f'Numeric solution:  {model.solve_static(kappa):.4f}')\n",
    "\n",
    "# Analytic solution\n",
    "print(f'Analytic solution: {model.analytic_solution(kappa):.4f}')"
   ]
  },
  {
   "attachments": {},
   "cell_type": "markdown",
   "metadata": {},
   "source": [
    "I see that the numeric and analytical solutions are the same"
   ]
  },
  {
   "attachments": {},
   "cell_type": "markdown",
   "metadata": {},
   "source": [
    "We now consider a *dynamic* version of the model.\n",
    "\n",
    "* The demand-shock is a so-called AR(1) in logs, \n",
    "\n",
    "$$\n",
    "\\log \\kappa_{t} = \\rho \\log \\kappa_{t-1} + \\epsilon_{t},\\,\\,\\, \\epsilon_{t+1} \\sim \\mathcal{N}(-0.5\\sigma_{\\epsilon}^2,\\sigma_{\\epsilon})\n",
    "$$\n",
    "\n",
    "* Any hiring or firing implies a fixed adjustment cost, $\\iota > 0 $.\n",
    "* Future profits are discounted with a monthly factor of $R \\in (0,1)$.\n",
    "\n",
    "The initial demand shock is $\\kappa_{-1} = 1$ and the planning horizon is 10 years, i.e. 120 months so $t \\in \\{0,1,2,\\dots,119\\}$. Initially you don't have any employees, $\\ell_{-1}=0$"
   ]
  },
  {
   "attachments": {},
   "cell_type": "markdown",
   "metadata": {},
   "source": [
    "\n",
    "The *ex post* value of the salon is *conditional* on the shock series is:\n",
    "\n",
    "$$\n",
    "h(\\epsilon_0,\\epsilon_1,\\dots,\\epsilon_{119}) = \\left[\\sum_{t=0}^{119}R^{-t}\\left[\\kappa_{t}\\ell_{t}^{1-\\eta}-w\\ell_{t}-\\boldsymbol{1}_{\\ell_{t}\\neq\\ell_{t-1}}\\iota\\right]\\right]\n",
    "$$\n",
    "\n",
    "The *ex ante* expected value of the salon can be approximated by\n",
    "\n",
    "$$\n",
    "H = \\mathbb{E}[h(\\epsilon_0,\\epsilon_1,\\dots,\\epsilon_{119})] \\approx \\frac{1}{K}\\sum_{k=0}^{K} h(\\epsilon_0^k,\\epsilon_1^k,\\dots,\\epsilon_{119}^k)\n",
    "$$\n",
    "\n",
    "where each $k\\in\\{0,1,\\dots,K-1\\}$ is a random shock series. Maximizing profitability means maximizing $H$.\n"
   ]
  },
  {
   "attachments": {},
   "cell_type": "markdown",
   "metadata": {},
   "source": [
    "Baseline parameters are: \n",
    "\n",
    "- $\\rho = 0.90$\n",
    "- $\\iota = 0.01$\n",
    "- $\\sigma_{\\epsilon} = 0.10$\n",
    "- $R = \\left(1+0.01\\right)^{1/12}$"
   ]
  },
  {
   "attachments": {},
   "cell_type": "markdown",
   "metadata": {},
   "source": [
    "**Question 2:** Calculate $H$ if the policy  $\\ell_{t}=\\left(\\frac{(1-\\eta)\\kappa_{t}}{w}\\right)^{\\frac{1}{\\eta}}$ from question 1 is followed. Choose $K$ so the approximation is good enough to not affect your results substantially."
   ]
  },
  {
   "attachments": {},
   "cell_type": "markdown",
   "metadata": {},
   "source": [
    "I choose K=100 and deem the approximation good enough."
   ]
  },
  {
   "cell_type": "code",
   "execution_count": 189,
   "metadata": {},
   "outputs": [
    {
     "name": "stdout",
     "output_type": "stream",
     "text": [
      "H is: 27.3705\n"
     ]
    }
   ],
   "source": [
    "H_value = model.H_value(rule = 'analytic')\n",
    "print(f'H is: {H_value:.4f}')"
   ]
  },
  {
   "attachments": {},
   "cell_type": "markdown",
   "metadata": {},
   "source": [
    "Next, we consider policies on the form:\n",
    "\n",
    "$$\n",
    "\n",
    "\\ell_{t}=\\begin{cases}\n",
    "\\ell_t^{\\ast}  & \\text{if }\\left|\\ell_{t-1}-\\ell_t^{\\ast} \\right|>\\Delta\\\\\n",
    "\\ell_{t-1} & \\text{else }\n",
    "\\end{cases}\n",
    "\\\\\n",
    "\\text{where}\\,\\,\\ell_t^{\\ast} = \\left(\\frac{(1-\\eta)\\kappa_{t}}{w}\\right)^{\\frac{1}{\\eta}} \\\\\n",
    "\n",
    "$$\n",
    "With $\\Delta \\geq 0$ and $\\Delta = 0$ being the previous policy.\n"
   ]
  },
  {
   "attachments": {},
   "cell_type": "markdown",
   "metadata": {},
   "source": [
    "\n",
    "**Question 3:** Calculate $H$ if the policy above was followed with $\\Delta = 0.05$. Does it improve profitability?"
   ]
  },
  {
   "cell_type": "code",
   "execution_count": 190,
   "metadata": {},
   "outputs": [
    {
     "name": "stdout",
     "output_type": "stream",
     "text": [
      "H is: 28.0488\n"
     ]
    }
   ],
   "source": [
    "H_value = model.H_value(rule = 'Delta')\n",
    "print(f'H is: {H_value:.4f}')"
   ]
  },
  {
   "attachments": {},
   "cell_type": "markdown",
   "metadata": {},
   "source": [
    "I see that the policy improves profitability as H is higher than in question 2."
   ]
  },
  {
   "attachments": {},
   "cell_type": "markdown",
   "metadata": {},
   "source": [
    "**Question 4:** Find the optimal $\\Delta$ maximizing $H$. Illustrate your result."
   ]
  },
  {
   "attachments": {},
   "cell_type": "markdown",
   "metadata": {},
   "source": [
    "I use an optimizer to find the optimal $\\Delta$"
   ]
  },
  {
   "cell_type": "code",
   "execution_count": 160,
   "metadata": {},
   "outputs": [
    {
     "name": "stdout",
     "output_type": "stream",
     "text": [
      "The optimal $\\Delta$ is: 0.0736\n"
     ]
    }
   ],
   "source": [
    "#Make objective function that returns H for a Delta\n",
    "def objective(Delta, model):\n",
    "    model.par.Delta = Delta\n",
    "    return - model.H_value(rule='Delta')\n",
    "    \n",
    "# Minimize objective function\n",
    "res = minimize(objective, x0=0.05, args=(model), method='Nelder-Mead', tol=1e-10)\n",
    "print(f'The optimal $\\Delta$ is: {res.x[0]:.4f}')"
   ]
  },
  {
   "attachments": {},
   "cell_type": "markdown",
   "metadata": {},
   "source": [
    "I illustrate my results by plotting H over a grid of Delta values. Notice that the maximum is around 0.0736. Notice also that the curve isn't smooth for high Delta. This could be approximated better for a higher K. I have used K=100."
   ]
  },
  {
   "cell_type": "code",
   "execution_count": 191,
   "metadata": {},
   "outputs": [
    {
     "data": {
      "image/png": "[encoded data removed]",
      "text/plain": [
       "<Figure size 640x480 with 1 Axes>"
      ]
     },
     "metadata": {},
     "output_type": "display_data"
    }
   ],
   "source": [
    "#Setup model\n",
    "model = hairsalon()\n",
    "\n",
    "# Allocate\n",
    "delta_grid = np.linspace(0.0,0.99,100)\n",
    "H_grid = np.empty_like(delta_grid)\n",
    "\n",
    "#Find H for each delta\n",
    "for i, delta in enumerate(delta_grid):\n",
    "    model.par.Delta = delta\n",
    "    H_grid[i] = model.H_value(rule='Delta')\n",
    "\n",
    "#Plot\n",
    "fig = plt.figure()\n",
    "ax = fig.add_subplot(1,1,1)\n",
    "ax.plot(delta_grid,H_grid)\n",
    "ax.set_xlabel('$\\\\Delta$')\n",
    "ax.set_ylabel('$H$')\n",
    "ax.set_title('H-value as a function of $\\\\Delta$')\n",
    "ax.set_xticks(np.linspace(0.0,1.0,11))\n",
    "plt.show()\n"
   ]
  },
  {
   "attachments": {},
   "cell_type": "markdown",
   "metadata": {},
   "source": [
    "\n",
    "**Question 5:** Suggest an alternative policy you believe might improve profitability. Implement and test your policy.\n",
    "\n"
   ]
  },
  {
   "attachments": {},
   "cell_type": "markdown",
   "metadata": {},
   "source": [
    "I suggest a policy of the following form:\n",
    "\n",
    "$$\n",
    "\n",
    "\\ell_{t}=\\begin{cases}\n",
    "\\ell_{t-1} + \\gamma (\\ell_t^{\\ast}-\\ell_{t-1})  & \\text{if }\\left|\\ell_{t-1}-\\ell_t^{\\ast} \\right|>\\Delta\\\\\n",
    "\\ell_{t-1} & \\text{else }\n",
    "\\end{cases}\n",
    "$$\n",
    "\n",
    "The addition is that the firm doesn't have to choose the optimal labor level, but instead adjust it gradually with a parameter $\\gamma$. This could be an improvement as the firm knows that the circumstances are changing, so the myopic optimal level isn't necessarily the best.\n",
    "\n",
    "I implement this policy and find that it improves profitability compared to the policy in question 4."
   ]
  },
  {
   "cell_type": "code",
   "execution_count": 187,
   "metadata": {},
   "outputs": [
    {
     "name": "stdout",
     "output_type": "stream",
     "text": [
      "The optimal $\\Delta$ is: 0.0749\n",
      "The optimal $\\gamma$ is: 0.9816\n",
      "The optimal $H$ is: 28.1015\n"
     ]
    }
   ],
   "source": [
    "model = hairsalon()\n",
    "\n",
    "def objective(x, model):\n",
    "    model.par.Delta = x[0]\n",
    "    model.par.gamma = x[1]\n",
    "    return - model.H_value(rule='alternative')\n",
    "    \n",
    "# Minimize objective function\n",
    "res = minimize(objective, x0=[0.05,1.0], args=(model), method='Nelder-Mead', tol=1e-10)\n",
    "print(f'The optimal $\\Delta$ is: {res.x[0]:.4f}')\n",
    "print(f'The optimal $\\gamma$ is: {res.x[1]:.4f}')\n",
    "print(f'The optimal $H$ is: {- res.fun:.4f}')"
   ]
  },
  {
   "attachments": {},
   "cell_type": "markdown",
   "metadata": {},
   "source": [
    "## 3. <a id='toc3_'></a>[Problem 3: Global optimizer with refined multi-start](#toc0_)"
   ]
  },
  {
   "attachments": {},
   "cell_type": "markdown",
   "metadata": {},
   "source": [
    "We consider the Griewank function:\n",
    "\n",
    "$$ f(\\boldsymbol{x}) = \\sum^n_{i=1} \\frac{x^2_i}{4000}-\\prod^n_{i=1}\\cos\\left(\\frac{x_i}{\\sqrt{i}}\\right)+1$$\n",
    "\n",
    "The **global minimum** of this function is $f(0,0) = 0$ (remember: $\\cos(0)=1$).<br>\n",
    "But the function also have a lot of **local minima**."
   ]
  },
  {
   "cell_type": "code",
   "execution_count": 13,
   "metadata": {},
   "outputs": [],
   "source": [
    "def griewank(x):\n",
    "    return griewank_(x[0],x[1])\n",
    "    \n",
    "def griewank_(x1,x2):\n",
    "    A = x1**2/4000 + x2**2/4000\n",
    "    B = np.cos(x1/np.sqrt(1))*np.cos(x2/np.sqrt(2))\n",
    "    return A-B+1"
   ]
  },
  {
   "attachments": {},
   "cell_type": "markdown",
   "metadata": {},
   "source": [
    "A **refined global optimizer with multi-start** is:\n",
    "\n",
    "1. Choose *bounds* for $\\mathbf{x}$ and *tolerance* $\\tau > 0$.\n",
    "2. Choose number of *warm-up iterations*, $\\underline{K} > 0$ and *maximum number of iterations*, $K > \\underline{K}$.\n",
    "3. In each iteration for $k \\in \\{0,1,\\dots,K-1\\}$:\n",
    "\n",
    "    A. Draw random $\\mathbf{x}^k$ uniformly within chosen bounds.\n",
    "\n",
    "    B. If $k < \\underline{K}$ go to step E.\n",
    "\n",
    "    C. Calculate $\\chi^k = 0.50\\cdot\\frac{2}{1+\\exp((k-\\underline{K})/100)}$  \n",
    "\n",
    "    D. Set $\\mathbf{x}^{k0} = \\chi^k \\mathbf{x}^k + (1-\\chi^k)\\mathbf{x}^{\\ast} $\n",
    "\n",
    "    E. Run optimizer with $\\mathbf{x}^{k0}$ as initial guess and $\\mathbf{x}^{k\\ast}$ as result.\n",
    "\n",
    "    F. Set $\\mathbf{x}^{\\ast} = \\mathbf{x}^{k\\ast}$ if $k = 0$ or $f(\\mathbf{x}^{k\\ast}) < f(\\mathbf{x}^{\\ast})$\n",
    "\n",
    "    G. If $f(\\mathbf{x}^{\\ast}) < \\tau$ go to step 4.\n",
    "\n",
    "4. Return the result $\\mathbf{x}^{\\ast}$."
   ]
  },
  {
   "attachments": {},
   "cell_type": "markdown",
   "metadata": {},
   "source": [
    "As settings we choose:\n",
    "\n",
    "* $x_1,x_2 \\in  [-600,600]$\n",
    "* $\\tau = 10^{-8}$\n",
    "* $\\underline{K}=10$\n",
    "* $K=1000$\n",
    "\n",
    "The optimizer in Step 3.E is `BFGS` with a tolerance of $\\tau$."
   ]
  },
  {
   "attachments": {},
   "cell_type": "markdown",
   "metadata": {},
   "source": [
    "**Question 1:** Implement the refined global optimizer with multi-start. Illustrate how the effective initial guesses $\\mathbf{x}^{k0}$ vary with the iteration counter $k$."
   ]
  },
  {
   "cell_type": "code",
   "execution_count": 14,
   "metadata": {},
   "outputs": [],
   "source": [
    "# write your code here"
   ]
  },
  {
   "attachments": {},
   "cell_type": "markdown",
   "metadata": {},
   "source": [
    "**Question 2:** Is it a better idea to set $\\underline{K} = 100$? Is the convergence faster?"
   ]
  },
  {
   "cell_type": "code",
   "execution_count": 15,
   "metadata": {},
   "outputs": [],
   "source": [
    "# write your code here"
   ]
  }
 ],
 "metadata": {
  "kernelspec": {
   "display_name": "base",
   "language": "python",
   "name": "python3"
  },
  "language_info": {
   "codemirror_mode": {
    "name": "ipython",
    "version": 3
   },
   "file_extension": ".py",
   "mimetype": "text/x-python",
   "name": "python",
   "nbconvert_exporter": "python",
   "pygments_lexer": "ipython3",
   "version": "3.9.7"
  },
  "orig_nbformat": 4
 },
 "nbformat": 4,
 "nbformat_minor": 2
}
