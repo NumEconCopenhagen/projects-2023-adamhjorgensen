{
 "cells": [
  {
   "cell_type": "markdown",
   "metadata": {},
   "source": [
    "# Inaugural Project"
   ]
  },
  {
   "cell_type": "markdown",
   "metadata": {},
   "source": [
    "Imports and set magics:"
   ]
  },
  {
   "cell_type": "code",
   "execution_count": 1,
   "metadata": {},
   "outputs": [],
   "source": [
    "#Import packages\n",
    "import numpy as np\n",
    "import warnings\n",
    "\n",
    "# autoreload modules when code is run. Otherwise, python will not see recent changes. \n",
    "%load_ext autoreload\n",
    "%autoreload 2\n",
    "\n",
    "#Ignore warning\n",
    "warnings.filterwarnings('ignore', category=RuntimeWarning)\n",
    "\n",
    "# Import your own code\n",
    "from CouplesModel import CouplesModel"
   ]
  },
  {
   "cell_type": "markdown",
   "metadata": {},
   "source": [
    "# Question 1"
   ]
  },
  {
   "attachments": {},
   "cell_type": "markdown",
   "metadata": {},
   "source": [
    "The model is specified in a class called CouplesClass. The class includes all model equations as well as methods for solving and simulating the model.\n",
    "\n",
    "I create an instance of the model:"
   ]
  },
  {
   "cell_type": "code",
   "execution_count": 2,
   "metadata": {},
   "outputs": [],
   "source": [
    "model = CouplesModel()"
   ]
  },
  {
   "attachments": {},
   "cell_type": "markdown",
   "metadata": {},
   "source": [
    "To solve the model using a discrete grid, I call the solve_discrete method. The procedure goes like this:\n",
    "- Calculate the value of choice for all possible choices\n",
    "- Check if the conditions aren't violated, else set value to negative infinity\n",
    "- Find the maximum value, and corresponding choices"
   ]
  },
  {
   "cell_type": "code",
   "execution_count": 3,
   "metadata": {},
   "outputs": [],
   "source": [
    "model.solve_discrete()"
   ]
  },
  {
   "attachments": {},
   "cell_type": "markdown",
   "metadata": {},
   "source": [
    "I know calculate HF/HM for different sets of parameters and make a table"
   ]
  },
  {
   "cell_type": "code",
   "execution_count": 4,
   "metadata": {},
   "outputs": [
    {
     "name": "stdout",
     "output_type": "stream",
     "text": [
      "Table 1: Relative labor in home production, HF/HM\n",
      "--------------------------------------------------\n",
      "alpha \\ sigma|       0.5      1.00      1.50     \n",
      "-------------+------------------------------------\n",
      "     0.25    |      0.55      0.31      0.21\n",
      "     0.50    |      1.00      1.00      1.00\n",
      "     0.75    |      1.83      3.25      4.67\n",
      "--------------------------------------------------\n"
     ]
    }
   ],
   "source": [
    "#a. Setup for table\n",
    "alpha = [0.25,0.5,0.75] #alpha grid\n",
    "sigma = [0.5,1.0,1.5] #sigma grid\n",
    "\n",
    "#b. Make table\n",
    "#i. Print title and line seperator\n",
    "title = 'Table 1: Relative labor in home production, HF/HM'\n",
    "print(title)\n",
    "print('-'*50) #line seperator\n",
    "\n",
    "#ii. Print header and line seperator\n",
    "header = rf\"alpha \\ sigma|{sigma[0]:10.2}{sigma[1]:10.2f}{sigma[2]:10.2f}     \"\n",
    "print(header)\n",
    "print(f\"{'-'*len(header[:header.index('|')])}+{'-'*len(header[header.index('|'):])}\") #line seperator\n",
    "\n",
    "#iii. Print main table\n",
    "for a in alpha:\n",
    "    #o. Print index with alpha values\n",
    "    row = f\"{a:9.2f}    |\"\n",
    "    \n",
    "    #oo. Add output to string one-by-one through loop\n",
    "    for s in sigma:\n",
    "        #1. Set up and solve model based on alpha and sigma values\n",
    "        temp = CouplesModel(**{'alpha':a,'sigma':s})\n",
    "        temp.solve_discrete()\n",
    "        \n",
    "        #2. Calculate output\n",
    "        out = temp.sol_disc.HF / temp.sol_disc.HM\n",
    "        \n",
    "        #3. Add output to string\n",
    "        row += f\"{out:10.2f}\"\n",
    "    \n",
    "    #ooo. Print string\n",
    "    print(row)\n",
    "print('-'*50)\n",
    "        "
   ]
  },
  {
   "attachments": {},
   "cell_type": "markdown",
   "metadata": {},
   "source": [
    "## Question 2"
   ]
  },
  {
   "attachments": {},
   "cell_type": "markdown",
   "metadata": {},
   "source": [
    "I calculate log(HF/HM) for different wF values using the method solve_wF_vec"
   ]
  },
  {
   "cell_type": "code",
   "execution_count": 5,
   "metadata": {},
   "outputs": [],
   "source": [
    "model.solve_wF_vec(discrete=True)"
   ]
  },
  {
   "attachments": {},
   "cell_type": "markdown",
   "metadata": {},
   "source": [
    "I plot log(HF/HM) against log(wF/wM) using the method plot"
   ]
  },
  {
   "cell_type": "code",
   "execution_count": 6,
   "metadata": {},
   "outputs": [
    {
     "data": {
      "image/png": "[encoded data removed]",
      "text/plain": [
       "<Figure size 640x480 with 1 Axes>"
      ]
     },
     "metadata": {},
     "output_type": "display_data"
    }
   ],
   "source": [
    "model.plot(discrete=True)"
   ]
  },
  {
   "attachments": {},
   "cell_type": "markdown",
   "metadata": {},
   "source": [
    "It seems like there is no difference in the relative time spend on home production for wF=-0.10 and wF=0.00. I believe this is a result of solving the model with a discrete grid. The optimal HF and HM happens to be the same in the two cases, but only because the agents can't perfectly choose any HF and HM they want to."
   ]
  },
  {
   "attachments": {},
   "cell_type": "markdown",
   "metadata": {},
   "source": [
    "## Question 3"
   ]
  },
  {
   "attachments": {},
   "cell_type": "markdown",
   "metadata": {},
   "source": [
    "I solve the model with a continuous choice set using the method solve_continuous. I use the solver 'B-BFGS-H' and the discrete solution as an initial guess. "
   ]
  },
  {
   "cell_type": "code",
   "execution_count": 7,
   "metadata": {},
   "outputs": [
    {
     "data": {
      "text/plain": [
       "namespace(LM=4.454523225032927,\n",
       "          LF=4.454064251994442,\n",
       "          HM=4.454911194897205,\n",
       "          HF=4.454515445595485,\n",
       "          V=-0.2381101582308815)"
      ]
     },
     "execution_count": 7,
     "metadata": {},
     "output_type": "execute_result"
    }
   ],
   "source": [
    "model.solve_continuous()\n",
    "model.sol_cont"
   ]
  },
  {
   "attachments": {},
   "cell_type": "markdown",
   "metadata": {},
   "source": [
    "I calculate log(HF/HM) for different wF values using the method solve_wF_vec"
   ]
  },
  {
   "cell_type": "code",
   "execution_count": 8,
   "metadata": {},
   "outputs": [],
   "source": [
    "model.solve_wF_vec()"
   ]
  },
  {
   "attachments": {},
   "cell_type": "markdown",
   "metadata": {},
   "source": [
    "I plot log(HF/HM) against log(wF/wM) using the method plot"
   ]
  },
  {
   "cell_type": "code",
   "execution_count": 9,
   "metadata": {},
   "outputs": [
    {
     "data": {
      "image/png": "[encoded data removed]",
      "text/plain": [
       "<Figure size 640x480 with 1 Axes>"
      ]
     },
     "metadata": {},
     "output_type": "display_data"
    }
   ],
   "source": [
    "model.plot()"
   ]
  },
  {
   "attachments": {},
   "cell_type": "markdown",
   "metadata": {},
   "source": [
    "This shows that the relative time spent on domestic work changes with wF. This suggests that the discrete grid used in question 2 was too sparse and couldn't propperly capture the dynamics."
   ]
  },
  {
   "attachments": {},
   "cell_type": "markdown",
   "metadata": {},
   "source": [
    "## Question 4"
   ]
  },
  {
   "attachments": {},
   "cell_type": "markdown",
   "metadata": {},
   "source": [
    "To find an $\\alpha$ and $\\sigma$ that minimizes $(\\beta_0-\\hat{\\beta}_0)^2+(\\beta_1-\\hat{\\beta}_1)^2$ I use a Simulated Minimum Distance estimator (SMD). The idea is to simulate the moments ($\\hat{\\beta}_0$,$\\hat{\\beta}_1$) using the model, and find the minimum distance to the moments in the data ($\\beta_0$, $\\beta_1$), then update the parameters and try again until convergence. The procedure goes like this:\n",
    "1. Set initial $\\alpha$, $\\sigma$\n",
    "2. Calculate $\\hat{\\beta}_0$,$\\hat{\\beta}_1$\n",
    "3. Evaluate squared distance in moments, $(\\beta_0-\\hat{\\beta}_0)^2+(\\beta_1-\\hat{\\beta}_1)^2$\n",
    "4. If distance is 0, or there is convergence, then terminate; else update $\\alpha$, $\\sigma$ and return to step 2.\n",
    "\n",
    "I have nested this procedure in the method SMD. Here I apply a solver (Nelder-Mead) to evaluate the objective function (the squared moments) given by the method SMD_obj. For each guess the parameters are updated, the model is solved again, and $\\hat{\\beta}_0$,$\\hat{\\beta}_1$ are calculated using the method simulate_moments. Notice that simulate_moments calls the method estimate_beta to calculate $\\hat{\\beta}_0$,$\\hat{\\beta}_1$."
   ]
  },
  {
   "cell_type": "code",
   "execution_count": 10,
   "metadata": {},
   "outputs": [
    {
     "name": "stdout",
     "output_type": "stream",
     "text": [
      "Iteration:   1,   Guess: ['0.5000', '1.0000'],   Objective function:  0.95791954,   LF_vec: ['2.90', '3.74', '4.45', '4.96', '5.52']\n",
      "Iteration:   2,   Guess: ['0.5250', '1.0000'],   Objective function:  0.95589921,   LF_vec: ['2.58', '3.46', '4.23', '4.89', '5.28']\n",
      "Iteration:   3,   Guess: ['0.5000', '1.0500'],   Objective function:  1.02827877,   LF_vec: ['2.89', '3.73', '4.45', '4.97', '5.54']\n",
      "Iteration:   4,   Guess: ['0.5250', '0.9500'],   Objective function:  0.87881321,   LF_vec: ['2.59', '3.47', '4.24', '4.89', '5.27']\n",
      "Iteration:   5,   Guess: ['0.5375', '0.9000'],   Objective function:  0.70338774,   LF_vec: ['2.58', '3.45', '4.15', '4.71', '5.13']\n",
      "Iteration:   6,   Guess: ['0.5625', '0.9000'],   Objective function:  0.65545093,   LF_vec: ['2.35', '3.23', '3.95', '4.48', '4.99']\n",
      "Iteration:   7,   Guess: ['0.5938', '0.8500'],   Objective function:  0.64732584,   LF_vec: ['2.09', '2.96', '3.73', '4.35', '4.81']\n",
      "Iteration:   8,   Guess: ['0.6062', '0.7500'],   Objective function:  0.46247266,   LF_vec: ['2.14', '2.98', '3.73', '4.33', '4.74']\n",
      "Iteration:   9,   Guess: ['0.6469', '0.6250'],   Objective function:  0.29111874,   LF_vec: ['2.07', '2.91', '3.61', '4.15', '4.61']\n",
      "Iteration:  10,   Guess: ['0.7031', '0.5750'],   Objective function:  0.23021759,   LF_vec: ['1.89', '2.60', '3.42', '3.89', '4.37']\n",
      "Iteration:  20,   Guess: ['0.9031', '0.1750'],   Objective function:  0.00543697,   LF_vec: ['2.31', '3.02', '3.49', '3.96', '4.40']\n",
      "Iteration:  30,   Guess: ['0.9999', '0.0828'],   Objective function:  0.13204492,   LF_vec: ['1.42', '2.07', '2.71', '3.19', '3.56']\n",
      "Iteration:  40,   Guess: ['0.9632', '0.1172'],   Objective function:  0.00058129,   LF_vec: ['2.35', '3.01', '3.55', '3.94', '4.38']\n",
      "Iteration:  50,   Guess: ['0.9714', '0.1123'],   Objective function:  0.00013994,   LF_vec: ['2.32', '3.02', '3.46', '3.92', '4.35']\n",
      "Iteration:  60,   Guess: ['0.9826', '0.0999'],   Objective function:  0.00000986,   LF_vec: ['2.30', '3.00', '3.44', '3.96', '4.29']\n",
      "Iteration:  70,   Guess: ['0.9819', '0.1004'],   Objective function:  0.00000087,   LF_vec: ['2.31', '3.01', '3.44', '3.97', '4.33']\n",
      "Iteration:  80,   Guess: ['0.9819', '0.1001'],   Objective function:  0.00000002,   LF_vec: ['2.31', '3.01', '3.45', '3.97', '4.33']\n",
      "Iteration:  90,   Guess: ['0.9819', '0.1002'],   Objective function:  0.00000000,   LF_vec: ['2.31', '3.01', '3.45', '3.97', '4.33']\n",
      "Iteration: 100,   Guess: ['0.9819', '0.1002'],   Objective function:  0.00000000,   LF_vec: ['2.31', '3.01', '3.45', '3.97', '4.33']\n",
      "Iteration: 110,   Guess: ['0.9819', '0.1002'],   Objective function:  0.00000000,   LF_vec: ['2.31', '3.01', '3.45', '3.97', '4.33']\n",
      "Iteration: 120,   Guess: ['0.9819', '0.1002'],   Objective function:  0.00000000,   LF_vec: ['2.31', '3.01', '3.45', '3.97', '4.33']\n",
      "Iteration: 130,   Guess: ['0.9819', '0.1002'],   Objective function:  0.00000000,   LF_vec: ['2.31', '3.01', '3.45', '3.97', '4.33']\n",
      "Iteration: 140,   Guess: ['0.9819', '0.1002'],   Objective function:  0.00000000,   LF_vec: ['2.31', '3.01', '3.45', '3.97', '4.33']\n"
     ]
    }
   ],
   "source": [
    "#Setup\n",
    "guess = (0.5,1.) #initial guess on parameters\n",
    "pnames = ('alpha', 'sigma') #parameter names - these will be estimated\n",
    "beta_data = (0.4,-0.1) #data for beta (target to match)\n",
    "bounds = ((0.0001,0.9999),(0.001,np.inf)) #bounds for parameters\n",
    "\n",
    "#Estimate\n",
    "res = model.SMD(guess,pnames,beta_data,bounds)"
   ]
  },
  {
   "attachments": {},
   "cell_type": "markdown",
   "metadata": {},
   "source": [
    "Check solver status"
   ]
  },
  {
   "cell_type": "code",
   "execution_count": 11,
   "metadata": {},
   "outputs": [
    {
     "data": {
      "text/plain": [
       "       message: Optimization terminated successfully.\n",
       "       success: True\n",
       "        status: 0\n",
       "           fun: 6.228029173928389e-16\n",
       "             x: [ 9.819e-01  1.002e-01]\n",
       "           nit: 70\n",
       "          nfev: 145\n",
       " final_simplex: (array([[ 9.819e-01,  1.002e-01],\n",
       "                       [ 9.819e-01,  1.002e-01],\n",
       "                       [ 9.819e-01,  1.002e-01]]), array([ 6.228e-16,  8.561e-14,  1.774e-13]))"
      ]
     },
     "execution_count": 11,
     "metadata": {},
     "output_type": "execute_result"
    }
   ],
   "source": [
    "res"
   ]
  },
  {
   "attachments": {},
   "cell_type": "markdown",
   "metadata": {},
   "source": [
    "Check beta estimates from model"
   ]
  },
  {
   "cell_type": "code",
   "execution_count": 12,
   "metadata": {},
   "outputs": [
    {
     "data": {
      "text/plain": [
       "array([ 0.40000002, -0.10000001])"
      ]
     },
     "execution_count": 12,
     "metadata": {},
     "output_type": "execute_result"
    }
   ],
   "source": [
    "model.updatepar(pnames,res.x)\n",
    "model.solve_wF_vec()\n",
    "model.estimate_beta()"
   ]
  },
  {
   "attachments": {},
   "cell_type": "markdown",
   "metadata": {},
   "source": [
    "I fit the data with paramter estimates of $\\alpha=0.98, \\sigma=0.10$. The interpretation would be that female labor in house production is much more productive. Male and female labor is complementary, so the male part also provides some labor."
   ]
  },
  {
   "attachments": {},
   "cell_type": "markdown",
   "metadata": {},
   "source": [
    "## Question 5"
   ]
  },
  {
   "attachments": {},
   "cell_type": "markdown",
   "metadata": {},
   "source": [
    "I extend the model by including a measure of relative income in the utility function. The interpretation is that the household prefers that one spouse has a higher income. This can be to fit into social gender norms. The utility function then becomes\n",
    "$$\n",
    "\\frac{Q^{1-\\rho}}{1-\\rho} - \\nu \\left( \\frac{T_M^{1 + \\frac{1}{\\epsilon}}} {1 + \\frac{1}{\\epsilon}} + \\frac{T_F^{1 + \\frac{1}{\\epsilon}}} {1 + \\frac{1}{\\epsilon}} \\right) + \\xi \\frac{(\\frac{w_M L_M}{w_F L_F})^{1-\\eta}}{1-\\eta}\n",
    "$$\n",
    "\n",
    "I set $\\alpha=0.5$ and estimate $\\xi, \\eta, \\sigma$."
   ]
  },
  {
   "cell_type": "code",
   "execution_count": 14,
   "metadata": {},
   "outputs": [
    {
     "name": "stdout",
     "output_type": "stream",
     "text": [
      "Iteration:   1,   Guess: ['0.0000', '1.0000', '0.1002'],   Objective function:  0.16014868,   LF_vec: ['3.42', '3.98', '4.45', '4.89', '5.13']\n",
      "Iteration:   2,   Guess: ['0.0003', '1.0000', '0.1002'],   Objective function:  0.15931835,   LF_vec: ['3.35', '3.96', '4.44', '4.75', '5.10']\n",
      "Iteration:   3,   Guess: ['0.0000', '1.0500', '0.1002'],   Objective function:  0.16014868,   LF_vec: ['3.42', '3.98', '4.45', '4.89', '5.13']\n",
      "Iteration:   4,   Guess: ['0.0000', '1.0000', '0.1052'],   Objective function:  0.16017843,   LF_vec: ['3.41', '3.98', '4.45', '4.89', '5.14']\n",
      "Iteration:   5,   Guess: ['0.0002', '1.0333', '0.0952'],   Objective function:  0.15956118,   LF_vec: ['3.38', '3.97', '4.45', '4.76', '5.11']\n",
      "Iteration:   6,   Guess: ['0.0003', '0.9722', '0.0969'],   Objective function:  0.15917456,   LF_vec: ['3.32', '3.96', '4.44', '4.75', '5.09']\n",
      "Iteration:   7,   Guess: ['0.0004', '0.9333', '0.0952'],   Objective function:  0.16274446,   LF_vec: ['0.00', '3.87', '4.35', '4.72', '5.08']\n",
      "Iteration:   8,   Guess: ['0.0005', '1.0037', '0.0947'],   Objective function:  0.15816751,   LF_vec: ['3.25', '3.86', '4.34', '4.71', '5.07']\n",
      "Iteration:   9,   Guess: ['0.0007', '1.0056', '0.0919'],   Objective function:  0.16047873,   LF_vec: ['0.00', '3.79', '4.29', '4.68', '5.04']\n",
      "Iteration:  10,   Guess: ['0.0005', '0.9506', '0.0993'],   Objective function:  0.16402934,   LF_vec: ['0.00', '3.84', '4.34', '4.71', '5.07']\n",
      "Iteration:  20,   Guess: ['0.0005', '0.9970', '0.0972'],   Objective function:  0.15811316,   LF_vec: ['3.25', '3.86', '4.35', '4.71', '5.07']\n",
      "Iteration:  30,   Guess: ['0.0015', '1.1944', '0.1020'],   Objective function:  0.15326203,   LF_vec: ['2.94', '3.55', '4.09', '4.43', '4.81']\n",
      "Iteration:  40,   Guess: ['0.0101', '2.9493', '0.1389'],   Objective function:  0.13836891,   LF_vec: ['2.84', '3.15', '3.35', '3.46', '3.50']\n",
      "Iteration:  50,   Guess: ['0.0485', '10.6048', '0.3435'],   Objective function:  0.12243929,   LF_vec: ['3.24', '3.70', '3.75', '3.64', '3.51']\n",
      "Iteration:  60,   Guess: ['0.1113', '23.1013', '0.6942'],   Objective function:  0.10491770,   LF_vec: ['3.05', '3.82', '4.02', '3.86', '3.68']\n",
      "Iteration:  70,   Guess: ['0.1050', '21.7910', '0.6808'],   Objective function:  0.10421435,   LF_vec: ['3.05', '3.82', '4.00', '3.84', '3.67']\n",
      "Iteration:  80,   Guess: ['0.0932', '19.4281', '0.6897'],   Objective function:  0.10152588,   LF_vec: ['3.05', '3.80', '3.96', '3.81', '3.64']\n",
      "Iteration:  90,   Guess: ['0.0883', '18.4539', '0.7068'],   Objective function:  0.09980173,   LF_vec: ['3.04', '3.79', '3.94', '3.80', '3.63']\n",
      "Iteration: 100,   Guess: ['0.0122', '3.3061', '0.7271'],   Objective function:  0.07949346,   LF_vec: ['2.56', '2.95', '3.21', '3.32', '3.35']\n",
      "Iteration: 110,   Guess: ['0.0262', '6.1084', '0.7142'],   Objective function:  0.07533258,   LF_vec: ['2.91', '3.34', '3.47', '3.45', '3.35']\n",
      "Iteration: 120,   Guess: ['0.0209', '5.0589', '0.7113'],   Objective function:  0.07264945,   LF_vec: ['2.85', '3.23', '3.38', '3.38', '3.32']\n",
      "Iteration: 130,   Guess: ['0.0256', '5.8993', '0.8010'],   Objective function:  0.06786555,   LF_vec: ['2.87', '3.32', '3.44', '3.42', '3.34']\n",
      "Iteration: 140,   Guess: ['0.0256', '5.7731', '0.9180'],   Objective function:  0.05991113,   LF_vec: ['2.85', '3.28', '3.40', '3.39', '3.32']\n",
      "Iteration: 150,   Guess: ['0.0218', '4.9413', '0.9912'],   Objective function:  0.05758087,   LF_vec: ['2.68', '3.14', '3.31', '3.32', '3.27']\n",
      "Iteration: 160,   Guess: ['0.0239', '5.3134', '1.0333'],   Objective function:  0.05671772,   LF_vec: ['2.70', '3.16', '3.33', '3.34', '3.28']\n",
      "Iteration: 170,   Guess: ['0.0237', '5.2619', '1.0403'],   Objective function:  0.05669421,   LF_vec: ['2.69', '3.15', '3.33', '3.34', '3.28']\n",
      "Iteration: 180,   Guess: ['0.0235', '5.2198', '1.0472'],   Objective function:  0.05657851,   LF_vec: ['2.69', '3.14', '3.32', '3.33', '3.28']\n",
      "Iteration: 190,   Guess: ['0.0235', '5.2121', '1.0486'],   Objective function:  0.05656093,   LF_vec: ['2.68', '3.14', '3.32', '3.33', '3.27']\n",
      "Iteration: 200,   Guess: ['0.0234', '5.2054', '1.0499'],   Objective function:  0.05654795,   LF_vec: ['2.68', '3.14', '3.32', '3.33', '3.27']\n",
      "Iteration: 210,   Guess: ['0.0234', '5.2034', '1.0503'],   Objective function:  0.05655943,   LF_vec: ['2.68', '3.14', '3.32', '3.33', '3.27']\n",
      "Iteration: 220,   Guess: ['0.0234', '5.2051', '1.0500'],   Objective function:  0.05654101,   LF_vec: ['2.68', '3.14', '3.32', '3.33', '3.27']\n",
      "Iteration: 230,   Guess: ['0.0234', '5.2047', '1.0501'],   Objective function:  0.05655357,   LF_vec: ['2.68', '3.14', '3.32', '3.33', '3.27']\n",
      "Iteration: 240,   Guess: ['0.0234', '5.2047', '1.0501'],   Objective function:  0.05655384,   LF_vec: ['2.68', '3.14', '3.32', '3.33', '3.27']\n",
      "Iteration: 250,   Guess: ['0.0234', '5.2047', '1.0501'],   Objective function:  0.05672832,   LF_vec: ['2.68', '3.14', '3.32', '3.33', '3.27']\n",
      "Iteration: 260,   Guess: ['0.0234', '5.2047', '1.0501'],   Objective function:  0.05673329,   LF_vec: ['2.68', '3.14', '3.32', '3.33', '3.27']\n",
      "Iteration: 270,   Guess: ['0.0234', '5.2047', '1.0501'],   Objective function:  0.05673754,   LF_vec: ['2.68', '3.14', '3.32', '3.33', '3.27']\n",
      "Iteration: 280,   Guess: ['0.0234', '5.2047', '1.0501'],   Objective function:  0.05672805,   LF_vec: ['2.68', '3.14', '3.32', '3.33', '3.27']\n",
      "Iteration: 290,   Guess: ['0.0234', '5.2047', '1.0501'],   Objective function:  0.05673330,   LF_vec: ['2.68', '3.14', '3.32', '3.33', '3.27']\n",
      "Iteration: 300,   Guess: ['0.0234', '5.2047', '1.0501'],   Objective function:  0.05654990,   LF_vec: ['2.68', '3.14', '3.32', '3.33', '3.27']\n",
      "Iteration: 310,   Guess: ['0.0234', '5.2047', '1.0501'],   Objective function:  0.05656035,   LF_vec: ['2.68', '3.14', '3.32', '3.33', '3.27']\n",
      "Iteration: 320,   Guess: ['0.0234', '5.2047', '1.0501'],   Objective function:  0.05673949,   LF_vec: ['2.68', '3.14', '3.32', '3.33', '3.27']\n",
      "Iteration: 330,   Guess: ['0.0234', '5.2047', '1.0501'],   Objective function:  0.05656026,   LF_vec: ['2.68', '3.14', '3.32', '3.33', '3.27']\n",
      "Iteration: 340,   Guess: ['0.0234', '5.2047', '1.0501'],   Objective function:  0.05673705,   LF_vec: ['2.68', '3.14', '3.32', '3.33', '3.27']\n",
      "Iteration: 350,   Guess: ['0.0234', '5.2047', '1.0501'],   Objective function:  0.05656421,   LF_vec: ['2.68', '3.14', '3.32', '3.33', '3.27']\n",
      "Iteration: 360,   Guess: ['0.0234', '5.2047', '1.0501'],   Objective function:  0.05673375,   LF_vec: ['2.68', '3.14', '3.32', '3.33', '3.27']\n",
      "Iteration: 370,   Guess: ['0.0234', '5.2047', '1.0501'],   Objective function:  0.05671866,   LF_vec: ['2.68', '3.14', '3.32', '3.33', '3.27']\n",
      "Iteration: 380,   Guess: ['0.0234', '5.2047', '1.0501'],   Objective function:  0.05653999,   LF_vec: ['2.68', '3.14', '3.32', '3.33', '3.27']\n",
      "Iteration: 390,   Guess: ['0.0234', '5.2047', '1.0501'],   Objective function:  0.05673173,   LF_vec: ['2.68', '3.14', '3.32', '3.33', '3.27']\n",
      "Iteration: 400,   Guess: ['0.0234', '5.2047', '1.0501'],   Objective function:  0.05672782,   LF_vec: ['2.68', '3.14', '3.32', '3.33', '3.27']\n",
      "Iteration: 410,   Guess: ['0.0234', '5.2047', '1.0501'],   Objective function:  0.05672384,   LF_vec: ['2.68', '3.14', '3.32', '3.33', '3.27']\n",
      "Iteration: 420,   Guess: ['0.0234', '5.2047', '1.0501'],   Objective function:  0.05653178,   LF_vec: ['2.68', '3.14', '3.32', '3.33', '3.27']\n",
      "Iteration: 430,   Guess: ['0.0234', '5.2047', '1.0501'],   Objective function:  0.05673632,   LF_vec: ['2.68', '3.14', '3.32', '3.33', '3.27']\n",
      "Iteration: 440,   Guess: ['0.0234', '5.2047', '1.0501'],   Objective function:  0.05672169,   LF_vec: ['2.68', '3.14', '3.32', '3.33', '3.27']\n",
      "Iteration: 450,   Guess: ['0.0234', '5.2047', '1.0501'],   Objective function:  0.05674508,   LF_vec: ['2.68', '3.14', '3.32', '3.33', '3.27']\n",
      "Iteration: 460,   Guess: ['0.0234', '5.2047', '1.0501'],   Objective function:  0.05656891,   LF_vec: ['2.68', '3.14', '3.32', '3.33', '3.27']\n",
      "Iteration: 470,   Guess: ['0.0234', '5.2047', '1.0501'],   Objective function:  0.05652231,   LF_vec: ['2.68', '3.14', '3.32', '3.33', '3.27']\n"
     ]
    }
   ],
   "source": [
    "model.par.alpha=0.5\n",
    "guess = (0.0,1.0,res.x[1])\n",
    "pnames = ('xi','eta','sigma')\n",
    "beta_data = (0.4,-0.1)\n",
    "bounds = ((-np.inf,np.inf),(0.001,np.inf),(0.001,np.inf))\n",
    "res = model.SMD(guess,pnames,beta_data,bounds, tol=1e-06)"
   ]
  },
  {
   "attachments": {},
   "cell_type": "markdown",
   "metadata": {},
   "source": [
    "Check solver status"
   ]
  },
  {
   "cell_type": "code",
   "execution_count": 15,
   "metadata": {},
   "outputs": [
    {
     "data": {
      "text/plain": [
       "       message: Optimization terminated successfully.\n",
       "       success: True\n",
       "        status: 0\n",
       "           fun: 0.056521528083685345\n",
       "             x: [ 2.344e-02  5.205e+00  1.050e+00]\n",
       "           nit: 202\n",
       "          nfev: 477\n",
       " final_simplex: (array([[ 2.344e-02,  5.205e+00,  1.050e+00],\n",
       "                       [ 2.344e-02,  5.205e+00,  1.050e+00],\n",
       "                       [ 2.344e-02,  5.205e+00,  1.050e+00],\n",
       "                       [ 2.344e-02,  5.205e+00,  1.050e+00]]), array([ 5.652e-02,  5.652e-02,  5.652e-02,  5.652e-02]))"
      ]
     },
     "execution_count": 15,
     "metadata": {},
     "output_type": "execute_result"
    }
   ],
   "source": [
    "res"
   ]
  },
  {
   "attachments": {},
   "cell_type": "markdown",
   "metadata": {},
   "source": [
    "Check beta estimate"
   ]
  },
  {
   "cell_type": "code",
   "execution_count": 16,
   "metadata": {},
   "outputs": [
    {
     "data": {
      "text/plain": [
       "array([ 0.18551683, -0.20255973])"
      ]
     },
     "execution_count": 16,
     "metadata": {},
     "output_type": "execute_result"
    }
   ],
   "source": [
    "model.updatepar(pnames,res.x)\n",
    "model.solve_wF_vec()\n",
    "model.estimate_beta()"
   ]
  },
  {
   "attachments": {},
   "cell_type": "markdown",
   "metadata": {},
   "source": [
    "I can't perfectly match the data with this extension, but I come somewhat close. I estimate $\\xi=0.023, \\eta=5.20, \\sigma=1.05$. This suggests that the household prefers that one spouse has a higher income. It is interesting that $\\sigma$ becomes greater than 1. This suggests that labor in home production is relatively substitutable, which I find more intuitive than the results from question 4. "
   ]
  },
  {
   "cell_type": "markdown",
   "metadata": {},
   "source": []
  }
 ],
 "metadata": {
  "kernelspec": {
   "display_name": "base",
   "language": "python",
   "name": "python3"
  },
  "language_info": {
   "codemirror_mode": {
    "name": "ipython",
    "version": 3
   },
   "file_extension": ".py",
   "mimetype": "text/x-python",
   "name": "python",
   "nbconvert_exporter": "python",
   "pygments_lexer": "ipython3",
   "version": "3.9.7"
  },
  "toc-autonumbering": true,
  "vscode": {
   "interpreter": {
    "hash": "47ef90cdf3004d3f859f1fb202523c65c07ba7c22eefd261b181f4744e2d0403"
   }
  }
 },
 "nbformat": 4,
 "nbformat_minor": 4
}
