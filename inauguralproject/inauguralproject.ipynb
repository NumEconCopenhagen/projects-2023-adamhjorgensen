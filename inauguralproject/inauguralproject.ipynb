{
 "cells": [
  {
   "cell_type": "markdown",
   "metadata": {},
   "source": [
    "# Inaugural Project"
   ]
  },
  {
   "attachments": {},
   "cell_type": "markdown",
   "metadata": {},
   "source": [
    "> **Note the following:** \n",
    "> 1. This is an example of how to structure your **inaugural project**.\n",
    "> 1. Remember the general advice on structuring and commenting your code\n",
    "> 1. The `inauguralproject.py` file includes a function which can be used multiple times in this notebook."
   ]
  },
  {
   "cell_type": "markdown",
   "metadata": {},
   "source": [
    "Imports and set magics:"
   ]
  },
  {
   "cell_type": "code",
   "execution_count": 38,
   "metadata": {},
   "outputs": [
    {
     "name": "stdout",
     "output_type": "stream",
     "text": [
      "The autoreload extension is already loaded. To reload it, use:\n",
      "  %reload_ext autoreload\n"
     ]
    }
   ],
   "source": [
    "import numpy as np\n",
    "\n",
    "# autoreload modules when code is run. Otherwise, python will not see recent changes. \n",
    "%load_ext autoreload\n",
    "%autoreload 2\n",
    "\n",
    "# Import your own code\n",
    "from CouplesModel import CouplesModel\n",
    "from HouseholdSpecializationModel import HouseholdSpecializationModelClass"
   ]
  },
  {
   "cell_type": "markdown",
   "metadata": {},
   "source": [
    "# Question 1"
   ]
  },
  {
   "cell_type": "markdown",
   "metadata": {},
   "source": [
    "**Explain how you solve the model**"
   ]
  },
  {
   "cell_type": "code",
   "execution_count": 39,
   "metadata": {},
   "outputs": [],
   "source": [
    "model = CouplesModel()\n",
    "model.solve_discrete()"
   ]
  },
  {
   "cell_type": "code",
   "execution_count": 40,
   "metadata": {},
   "outputs": [
    {
     "data": {
      "text/plain": [
       "4.5"
      ]
     },
     "execution_count": 40,
     "metadata": {},
     "output_type": "execute_result"
    }
   ],
   "source": [
    "getattr(model.sol_disc,'LM',)"
   ]
  },
  {
   "cell_type": "code",
   "execution_count": 41,
   "metadata": {},
   "outputs": [
    {
     "data": {
      "text/plain": [
       "namespace(LM=4.454493819318181,\n",
       "          LF=4.454493819318181,\n",
       "          HM=4.454493592853744,\n",
       "          HF=4.454493592853744,\n",
       "          V=-0.2381101577927103)"
      ]
     },
     "execution_count": 41,
     "metadata": {},
     "output_type": "execute_result"
    }
   ],
   "source": [
    "model.solve_continuous()\n",
    "model.sol_cont"
   ]
  },
  {
   "cell_type": "code",
   "execution_count": 42,
   "metadata": {},
   "outputs": [],
   "source": [
    "model.solve_wF_vec()"
   ]
  },
  {
   "cell_type": "code",
   "execution_count": 43,
   "metadata": {},
   "outputs": [
    {
     "data": {
      "image/png": "[encoded data removed]",
      "text/plain": [
       "<Figure size 640x480 with 1 Axes>"
      ]
     },
     "metadata": {},
     "output_type": "display_data"
    }
   ],
   "source": [
    "model.plot()"
   ]
  },
  {
   "cell_type": "code",
   "execution_count": 44,
   "metadata": {},
   "outputs": [
    {
     "data": {
      "text/plain": [
       "array([ 3.38529364e-06, -1.00001109e+00])"
      ]
     },
     "execution_count": 44,
     "metadata": {},
     "output_type": "execute_result"
    }
   ],
   "source": [
    "model.estimate_beta()"
   ]
  },
  {
   "cell_type": "code",
   "execution_count": 19,
   "metadata": {},
   "outputs": [
    {
     "name": "stdout",
     "output_type": "stream",
     "text": [
      "guess:  [0.5 1. ]\n",
      "obj:  0.9700172539844795\n",
      "guess:  [0.525 1.   ]\n",
      "obj:  0.8998212028583938\n",
      "guess:  [0.5  1.05]\n"
     ]
    },
    {
     "ename": "KeyboardInterrupt",
     "evalue": "",
     "output_type": "error",
     "traceback": [
      "\u001b[0;31m---------------------------------------------------------------------------\u001b[0m",
      "\u001b[0;31mKeyboardInterrupt\u001b[0m                         Traceback (most recent call last)",
      "\u001b[1;32m/Users/ahj/Library/CloudStorage/OneDrive-Personal/Polit/10. semester/IntroProg/projects-2023-adamhjorgensen/inauguralproject/inauguralproject.ipynb Cell 13\u001b[0m in \u001b[0;36m<cell line: 5>\u001b[0;34m()\u001b[0m\n\u001b[1;32m      <a href='vscode-notebook-cell:/Users/ahj/Library/CloudStorage/OneDrive-Personal/Polit/10.%20semester/IntroProg/projects-2023-adamhjorgensen/inauguralproject/inauguralproject.ipynb#X24sZmlsZQ%3D%3D?line=2'>3</a>\u001b[0m beta_data \u001b[39m=\u001b[39m (\u001b[39m0.4\u001b[39m,\u001b[39m-\u001b[39m\u001b[39m0.1\u001b[39m)\n\u001b[1;32m      <a href='vscode-notebook-cell:/Users/ahj/Library/CloudStorage/OneDrive-Personal/Polit/10.%20semester/IntroProg/projects-2023-adamhjorgensen/inauguralproject/inauguralproject.ipynb#X24sZmlsZQ%3D%3D?line=3'>4</a>\u001b[0m bounds \u001b[39m=\u001b[39m ((\u001b[39m0.001\u001b[39m,np\u001b[39m.\u001b[39minf),(\u001b[39m0.001\u001b[39m,np\u001b[39m.\u001b[39minf))\n\u001b[0;32m----> <a href='vscode-notebook-cell:/Users/ahj/Library/CloudStorage/OneDrive-Personal/Polit/10.%20semester/IntroProg/projects-2023-adamhjorgensen/inauguralproject/inauguralproject.ipynb#X24sZmlsZQ%3D%3D?line=4'>5</a>\u001b[0m res \u001b[39m=\u001b[39m model\u001b[39m.\u001b[39;49mSMM(guess,pnames,beta_data,bounds)\n",
      "File \u001b[0;32m~/Library/CloudStorage/OneDrive-Personal/Polit/10. semester/IntroProg/projects-2023-adamhjorgensen/inauguralproject/CouplesModel.py:260\u001b[0m, in \u001b[0;36mCouplesModel.SMM\u001b[0;34m(self, theta0, pnames, target, bounds, weights)\u001b[0m\n\u001b[1;32m    257\u001b[0m obj \u001b[39m=\u001b[39m \u001b[39mlambda\u001b[39;00m x: \u001b[39mself\u001b[39m\u001b[39m.\u001b[39mSMM_obj(x, pnames, target, weights) \u001b[39m+\u001b[39m \u001b[39m100\u001b[39m\n\u001b[1;32m    259\u001b[0m \u001b[39m#b. Define bounds\u001b[39;00m\n\u001b[0;32m--> 260\u001b[0m res \u001b[39m=\u001b[39m minimize(obj, theta0, bounds\u001b[39m=\u001b[39;49mbounds, method\u001b[39m=\u001b[39;49m\u001b[39m'\u001b[39;49m\u001b[39mNelder-Mead\u001b[39;49m\u001b[39m'\u001b[39;49m, tol\u001b[39m=\u001b[39;49m\u001b[39m1e-6\u001b[39;49m)\n\u001b[1;32m    262\u001b[0m \u001b[39mreturn\u001b[39;00m res\n",
      "File \u001b[0;32m~/opt/anaconda3/lib/python3.9/site-packages/scipy/optimize/_minimize.py:684\u001b[0m, in \u001b[0;36mminimize\u001b[0;34m(fun, x0, args, method, jac, hess, hessp, bounds, constraints, tol, callback, options)\u001b[0m\n\u001b[1;32m    681\u001b[0m     bounds \u001b[39m=\u001b[39m standardize_bounds(bounds, x0, meth)\n\u001b[1;32m    683\u001b[0m \u001b[39mif\u001b[39;00m meth \u001b[39m==\u001b[39m \u001b[39m'\u001b[39m\u001b[39mnelder-mead\u001b[39m\u001b[39m'\u001b[39m:\n\u001b[0;32m--> 684\u001b[0m     res \u001b[39m=\u001b[39m _minimize_neldermead(fun, x0, args, callback, bounds\u001b[39m=\u001b[39;49mbounds,\n\u001b[1;32m    685\u001b[0m                                \u001b[39m*\u001b[39;49m\u001b[39m*\u001b[39;49moptions)\n\u001b[1;32m    686\u001b[0m \u001b[39melif\u001b[39;00m meth \u001b[39m==\u001b[39m \u001b[39m'\u001b[39m\u001b[39mpowell\u001b[39m\u001b[39m'\u001b[39m:\n\u001b[1;32m    687\u001b[0m     res \u001b[39m=\u001b[39m _minimize_powell(fun, x0, args, callback, bounds, \u001b[39m*\u001b[39m\u001b[39m*\u001b[39moptions)\n",
      "File \u001b[0;32m~/opt/anaconda3/lib/python3.9/site-packages/scipy/optimize/_optimize.py:845\u001b[0m, in \u001b[0;36m_minimize_neldermead\u001b[0;34m(func, x0, args, callback, maxiter, maxfev, disp, return_all, initial_simplex, xatol, fatol, adaptive, bounds, **unknown_options)\u001b[0m\n\u001b[1;32m    843\u001b[0m \u001b[39mtry\u001b[39;00m:\n\u001b[1;32m    844\u001b[0m     \u001b[39mfor\u001b[39;00m k \u001b[39min\u001b[39;00m \u001b[39mrange\u001b[39m(N \u001b[39m+\u001b[39m \u001b[39m1\u001b[39m):\n\u001b[0;32m--> 845\u001b[0m         fsim[k] \u001b[39m=\u001b[39m func(sim[k])\n\u001b[1;32m    846\u001b[0m \u001b[39mexcept\u001b[39;00m _MaxFuncCallError:\n\u001b[1;32m    847\u001b[0m     \u001b[39mpass\u001b[39;00m\n",
      "File \u001b[0;32m~/opt/anaconda3/lib/python3.9/site-packages/scipy/optimize/_optimize.py:569\u001b[0m, in \u001b[0;36m_wrap_scalar_function_maxfun_validation.<locals>.function_wrapper\u001b[0;34m(x, *wrapper_args)\u001b[0m\n\u001b[1;32m    567\u001b[0m ncalls[\u001b[39m0\u001b[39m] \u001b[39m+\u001b[39m\u001b[39m=\u001b[39m \u001b[39m1\u001b[39m\n\u001b[1;32m    568\u001b[0m \u001b[39m# A copy of x is sent to the user function (gh13740)\u001b[39;00m\n\u001b[0;32m--> 569\u001b[0m fx \u001b[39m=\u001b[39m function(np\u001b[39m.\u001b[39;49mcopy(x), \u001b[39m*\u001b[39;49m(wrapper_args \u001b[39m+\u001b[39;49m args))\n\u001b[1;32m    570\u001b[0m \u001b[39m# Ideally, we'd like to a have a true scalar returned from f(x). For\u001b[39;00m\n\u001b[1;32m    571\u001b[0m \u001b[39m# backwards-compatibility, also allow np.array([1.3]),\u001b[39;00m\n\u001b[1;32m    572\u001b[0m \u001b[39m# np.array([[1.3]]) etc.\u001b[39;00m\n\u001b[1;32m    573\u001b[0m \u001b[39mif\u001b[39;00m \u001b[39mnot\u001b[39;00m np\u001b[39m.\u001b[39misscalar(fx):\n",
      "File \u001b[0;32m~/Library/CloudStorage/OneDrive-Personal/Polit/10. semester/IntroProg/projects-2023-adamhjorgensen/inauguralproject/CouplesModel.py:257\u001b[0m, in \u001b[0;36mCouplesModel.SMM.<locals>.<lambda>\u001b[0;34m(x)\u001b[0m\n\u001b[1;32m    254\u001b[0m \u001b[39mdef\u001b[39;00m \u001b[39mSMM\u001b[39m(\u001b[39mself\u001b[39m, theta0, pnames, target, bounds, weights\u001b[39m=\u001b[39m\u001b[39mNone\u001b[39;00m):\n\u001b[1;32m    255\u001b[0m     \n\u001b[1;32m    256\u001b[0m     \u001b[39m#a. Define objective function\u001b[39;00m\n\u001b[0;32m--> 257\u001b[0m     obj \u001b[39m=\u001b[39m \u001b[39mlambda\u001b[39;00m x: \u001b[39mself\u001b[39;49m\u001b[39m.\u001b[39;49mSMM_obj(x, pnames, target, weights) \u001b[39m+\u001b[39m \u001b[39m100\u001b[39m\n\u001b[1;32m    259\u001b[0m     \u001b[39m#b. Define bounds\u001b[39;00m\n\u001b[1;32m    260\u001b[0m     res \u001b[39m=\u001b[39m minimize(obj, theta0, bounds\u001b[39m=\u001b[39mbounds, method\u001b[39m=\u001b[39m\u001b[39m'\u001b[39m\u001b[39mNelder-Mead\u001b[39m\u001b[39m'\u001b[39m, tol\u001b[39m=\u001b[39m\u001b[39m1e-6\u001b[39m)\n",
      "File \u001b[0;32m~/Library/CloudStorage/OneDrive-Personal/Polit/10. semester/IntroProg/projects-2023-adamhjorgensen/inauguralproject/CouplesModel.py:271\u001b[0m, in \u001b[0;36mCouplesModel.SMM_obj\u001b[0;34m(self, theta, pnames, target, weights)\u001b[0m\n\u001b[1;32m    268\u001b[0m actual_moment \u001b[39m=\u001b[39m np\u001b[39m.\u001b[39marray(target)\n\u001b[1;32m    270\u001b[0m \u001b[39m#b. Get simulated moments\u001b[39;00m\n\u001b[0;32m--> 271\u001b[0m sim_moment \u001b[39m=\u001b[39m \u001b[39mself\u001b[39;49m\u001b[39m.\u001b[39;49msimulate_moments(theta, pnames)\n\u001b[1;32m    273\u001b[0m \u001b[39m#c. Calculate deviation\u001b[39;00m\n\u001b[1;32m    274\u001b[0m g \u001b[39m=\u001b[39m actual_moment \u001b[39m-\u001b[39m sim_moment\n",
      "File \u001b[0;32m~/Library/CloudStorage/OneDrive-Personal/Polit/10. semester/IntroProg/projects-2023-adamhjorgensen/inauguralproject/CouplesModel.py:290\u001b[0m, in \u001b[0;36mCouplesModel.simulate_moments\u001b[0;34m(self, theta, pnames)\u001b[0m\n\u001b[1;32m    287\u001b[0m \u001b[39mprint\u001b[39m(\u001b[39m'\u001b[39m\u001b[39mguess: \u001b[39m\u001b[39m'\u001b[39m, theta)\n\u001b[1;32m    289\u001b[0m \u001b[39m#b. Solve model\u001b[39;00m\n\u001b[0;32m--> 290\u001b[0m \u001b[39mself\u001b[39;49m\u001b[39m.\u001b[39;49msolve_wF_vec()\n\u001b[1;32m    292\u001b[0m \u001b[39m#c. Estimate beta (moment)\u001b[39;00m\n\u001b[1;32m    293\u001b[0m beta0, beta1 \u001b[39m=\u001b[39m \u001b[39mself\u001b[39m\u001b[39m.\u001b[39mestimate_beta()\n",
      "File \u001b[0;32m~/Library/CloudStorage/OneDrive-Personal/Polit/10. semester/IntroProg/projects-2023-adamhjorgensen/inauguralproject/CouplesModel.py:202\u001b[0m, in \u001b[0;36mCouplesModel.solve_wF_vec\u001b[0;34m(self, discrete)\u001b[0m\n\u001b[1;32m    200\u001b[0m     \u001b[39mself\u001b[39m\u001b[39m.\u001b[39msolve_discrete()\n\u001b[1;32m    201\u001b[0m \u001b[39melse\u001b[39;00m:\n\u001b[0;32m--> 202\u001b[0m     \u001b[39mself\u001b[39;49m\u001b[39m.\u001b[39;49msolve()\n\u001b[1;32m    203\u001b[0m sol\u001b[39m.\u001b[39mLM_vec[i] \u001b[39m=\u001b[39m sol\u001b[39m.\u001b[39mLM\n\u001b[1;32m    204\u001b[0m sol\u001b[39m.\u001b[39mLF_vec[i] \u001b[39m=\u001b[39m sol\u001b[39m.\u001b[39mLF\n",
      "File \u001b[0;32m~/Library/CloudStorage/OneDrive-Personal/Polit/10. semester/IntroProg/projects-2023-adamhjorgensen/inauguralproject/CouplesModel.py:173\u001b[0m, in \u001b[0;36mCouplesModel.solve\u001b[0;34m(self)\u001b[0m\n\u001b[1;32m    171\u001b[0m \u001b[39mdef\u001b[39;00m \u001b[39msolve\u001b[39m(\u001b[39mself\u001b[39m):\n\u001b[1;32m    172\u001b[0m     \u001b[39m'''Solve model'''\u001b[39;00m\n\u001b[0;32m--> 173\u001b[0m     \u001b[39mself\u001b[39;49m\u001b[39m.\u001b[39;49msolve_discrete()\n\u001b[1;32m    174\u001b[0m     \u001b[39mself\u001b[39m\u001b[39m.\u001b[39msolve_continuous()\n",
      "File \u001b[0;32m~/Library/CloudStorage/OneDrive-Personal/Polit/10. semester/IntroProg/projects-2023-adamhjorgensen/inauguralproject/CouplesModel.py:129\u001b[0m, in \u001b[0;36mCouplesModel.solve_discrete\u001b[0;34m(self)\u001b[0m\n\u001b[1;32m    126\u001b[0m vHF \u001b[39m=\u001b[39m mHF\u001b[39m.\u001b[39mravel()\n\u001b[1;32m    128\u001b[0m \u001b[39m#c. Calculate value of choice\u001b[39;00m\n\u001b[0;32m--> 129\u001b[0m vV \u001b[39m=\u001b[39m \u001b[39mself\u001b[39;49m\u001b[39m.\u001b[39;49mvalue_of_choice(vLM,vLF,vHM,vHF)\n\u001b[1;32m    131\u001b[0m \u001b[39m#d. Apply conditions with penalty\u001b[39;00m\n\u001b[1;32m    132\u001b[0m cond \u001b[39m=\u001b[39m (vLM\u001b[39m+\u001b[39mvHM \u001b[39m<\u001b[39m\u001b[39m=\u001b[39m par\u001b[39m.\u001b[39mTmax) \u001b[39m&\u001b[39m (vLF\u001b[39m+\u001b[39mvHF \u001b[39m<\u001b[39m\u001b[39m=\u001b[39m par\u001b[39m.\u001b[39mTmax)\n",
      "File \u001b[0;32m~/Library/CloudStorage/OneDrive-Personal/Polit/10. semester/IntroProg/projects-2023-adamhjorgensen/inauguralproject/CouplesModel.py:106\u001b[0m, in \u001b[0;36mCouplesModel.value_of_choice\u001b[0;34m(self, LM, LF, HM, HF)\u001b[0m\n\u001b[1;32m    104\u001b[0m \u001b[39m#b. Calculate\u001b[39;00m\n\u001b[1;32m    105\u001b[0m C \u001b[39m=\u001b[39m \u001b[39mself\u001b[39m\u001b[39m.\u001b[39mmarket(LM,LF)\n\u001b[0;32m--> 106\u001b[0m H \u001b[39m=\u001b[39m \u001b[39mself\u001b[39;49m\u001b[39m.\u001b[39;49mhomeprod(HM,HF)\n\u001b[1;32m    107\u001b[0m Q \u001b[39m=\u001b[39m \u001b[39mself\u001b[39m\u001b[39m.\u001b[39mcons(C,H)\n\u001b[1;32m    108\u001b[0m TM \u001b[39m=\u001b[39m LM\u001b[39m+\u001b[39mHM\n",
      "File \u001b[0;32m~/Library/CloudStorage/OneDrive-Personal/Polit/10. semester/IntroProg/projects-2023-adamhjorgensen/inauguralproject/CouplesModel.py:81\u001b[0m, in \u001b[0;36mCouplesModel.homeprod\u001b[0;34m(self, HM, HF)\u001b[0m\n\u001b[1;32m     79\u001b[0m     \u001b[39mreturn\u001b[39;00m HM\u001b[39m*\u001b[39m\u001b[39m*\u001b[39m(\u001b[39m1\u001b[39m\u001b[39m-\u001b[39mpar\u001b[39m.\u001b[39malpha)\u001b[39m*\u001b[39mHF\u001b[39m*\u001b[39m\u001b[39m*\u001b[39mpar\u001b[39m.\u001b[39malpha\n\u001b[1;32m     80\u001b[0m \u001b[39melse\u001b[39;00m: \u001b[39m#CES\u001b[39;00m\n\u001b[0;32m---> 81\u001b[0m     \u001b[39mreturn\u001b[39;00m ((\u001b[39m1\u001b[39m\u001b[39m-\u001b[39mpar\u001b[39m.\u001b[39malpha)\u001b[39m*\u001b[39mHM\u001b[39m*\u001b[39;49m\u001b[39m*\u001b[39;49m((par\u001b[39m.\u001b[39;49msigma\u001b[39m-\u001b[39;49m\u001b[39m1\u001b[39;49m)\u001b[39m/\u001b[39;49m(par\u001b[39m.\u001b[39;49msigma)) \u001b[39m+\u001b[39m par\u001b[39m.\u001b[39malpha\u001b[39m*\u001b[39mHF\u001b[39m*\u001b[39m\u001b[39m*\u001b[39m((par\u001b[39m.\u001b[39msigma\u001b[39m-\u001b[39m\u001b[39m1\u001b[39m)\u001b[39m/\u001b[39m(par\u001b[39m.\u001b[39msigma)))\u001b[39m*\u001b[39m\u001b[39m*\u001b[39m(par\u001b[39m.\u001b[39msigma\u001b[39m/\u001b[39m(par\u001b[39m.\u001b[39msigma\u001b[39m-\u001b[39m\u001b[39m1\u001b[39m))\n",
      "\u001b[0;31mKeyboardInterrupt\u001b[0m: "
     ]
    }
   ],
   "source": [
    "guess = (0.5,1.)\n",
    "pnames = ('alpha', 'sigma')\n",
    "beta_data = (0.4,-0.1)\n",
    "bounds = ((0.0001,0.9999),(0.001,np.inf))\n",
    "res = model.SMM(guess,pnames,beta_data,bounds)\n"
   ]
  },
  {
   "cell_type": "code",
   "execution_count": 10,
   "metadata": {},
   "outputs": [
    {
     "data": {
      "text/plain": [
       "array([0.98201646, 0.09999638])"
      ]
     },
     "execution_count": 10,
     "metadata": {},
     "output_type": "execute_result"
    }
   ],
   "source": [
    "res.x"
   ]
  },
  {
   "cell_type": "code",
   "execution_count": 11,
   "metadata": {},
   "outputs": [
    {
     "data": {
      "text/plain": [
       "array([ 0.39999992, -0.09999952])"
      ]
     },
     "execution_count": 11,
     "metadata": {},
     "output_type": "execute_result"
    }
   ],
   "source": [
    "model.estimate_beta()"
   ]
  },
  {
   "cell_type": "code",
   "execution_count": 51,
   "metadata": {},
   "outputs": [
    {
     "name": "stdout",
     "output_type": "stream",
     "text": [
      "guess:  [0.0075 0.0115]\n"
     ]
    },
    {
     "name": "stderr",
     "output_type": "stream",
     "text": [
      "/Users/ahj/Library/CloudStorage/OneDrive-Personal/Polit/10. semester/IntroProg/projects-2023-adamhjorgensen/inauguralproject/CouplesModel.py:82: RuntimeWarning: divide by zero encountered in power\n",
      "  return ((1-par.alpha)*HM**((par.sigma-1)/(par.sigma)) + par.alpha*HF**((par.sigma-1)/(par.sigma)))**(par.sigma/(par.sigma-1))\n"
     ]
    },
    {
     "name": "stdout",
     "output_type": "stream",
     "text": [
      "obj:  0.15336424954309633\n",
      "guess:  [0.007875 0.0115  ]\n",
      "obj:  0.15213999081398058\n",
      "guess:  [0.0075   0.012075]\n",
      "obj:  0.1525818371418933\n",
      "guess:  [0.007875 0.012075]\n",
      "obj:  0.15131893293280083\n",
      "guess:  [0.0080625 0.0123625]\n",
      "obj:  0.14762504492689624\n",
      "guess:  [0.0084375 0.0117875]\n",
      "obj:  0.14665994600757792\n",
      "guess:  [0.00890625 0.01164375]\n",
      "obj:  0.14269099438819177\n",
      "guess:  [0.00909375 0.01250625]\n",
      "obj:  0.14023150292583422\n",
      "guess:  [0.00970312 0.01300937]\n",
      "obj:  0.13113206970935104\n",
      "guess:  [0.01054688 0.01229062]\n",
      "obj:  0.7260123993257018\n",
      "guess:  [0.00868359 0.01234453]\n",
      "obj:  0.14456647888212137\n",
      "guess:  [0.00992578 0.01230859]\n",
      "obj:  0.1524355657264558\n",
      "guess:  [0.00899414 0.01233555]\n",
      "obj:  0.14104287588641662\n",
      "guess:  [0.00979102 0.01370117]\n",
      "obj:  0.12984387236796066\n",
      "guess:  [0.0102334  0.01472988]\n",
      "obj:  0.43569997790605475\n",
      "guess:  [0.0105   0.014375]\n",
      "obj:  0.5777312032589061\n",
      "guess:  [0.00937061 0.01284541]\n",
      "obj:  0.13689670405615043\n",
      "guess:  [0.01012354 0.01386514]\n",
      "obj:  0.1447208819090267\n",
      "guess:  [0.00955884 0.01310034]\n",
      "obj:  0.13287105458908038\n",
      "guess:  [0.0099353  0.01361021]\n",
      "obj:  0.1463635207229221\n",
      "guess:  [0.00965295 0.01322781]\n",
      "obj:  0.13196264069545968\n",
      "guess:  [0.00984119 0.01348274]\n",
      "obj:  0.14898621844137222\n",
      "guess:  [0.00970001 0.01329154]\n",
      "obj:  0.1309225869670909\n",
      "guess:  [0.0097879  0.01398334]\n",
      "obj:  0.12951068981075659\n",
      "guess:  [0.00983029 0.01447032]\n",
      "obj:  0.14659613902725474\n",
      "guess:  [0.00987891 0.01439297]\n",
      "obj:  0.14517847609230974\n",
      "guess:  [0.00974474 0.0135669 ]\n",
      "obj:  0.13029588300855283\n",
      "guess:  [0.00983418 0.01411761]\n",
      "obj:  0.1473345477989423\n",
      "guess:  [0.0097671  0.01370458]\n",
      "obj:  0.1299854783734193\n",
      "guess:  [0.00981182 0.01397993]\n",
      "obj:  0.14799806804512372\n",
      "guess:  [0.00977828 0.01377342]\n",
      "obj:  0.12983099583940969\n",
      "guess:  [0.00977517 0.01405558]\n",
      "obj:  0.12949857839432108\n",
      "guess:  [0.00976724 0.01423279]\n",
      "obj:  0.12932772793002717\n",
      "guess:  [0.00977687 0.01444271]\n",
      "obj:  0.12901036778614175\n",
      "guess:  [0.00977616 0.01477735]\n",
      "obj:  0.12788426913872872\n",
      "guess:  [0.0097555 0.0150268]\n",
      "obj:  0.127707462042609\n",
      "guess:  [0.00973929 0.01554853]\n",
      "obj:  0.12718937717806186\n",
      "guess:  [0.00974821 0.0160931 ]\n",
      "obj:  0.12630298329661666\n",
      "guess:  [0.0097387  0.01702326]\n",
      "obj:  0.1253300494398855\n",
      "guess:  [0.00970183 0.01779444]\n",
      "obj:  0.1252497380142302\n",
      "guess:  [0.00966467 0.01930298]\n",
      "obj:  0.12389509953085806\n",
      "guess:  [0.00966407 0.02077771]\n",
      "obj:  0.12249678228009056\n",
      "guess:  [0.00962646 0.0233923 ]\n",
      "obj:  0.11804314404861936\n",
      "guess:  [0.00955243 0.02567202]\n",
      "obj:  0.11508001821330077\n",
      "guess:  [0.00945929 0.0299964 ]\n",
      "obj:  0.1089872942303833\n",
      "guess:  [0.00942108 0.03408571]\n",
      "obj:  0.11559469897801648\n",
      "guess:  [0.00925392 0.04068982]\n",
      "obj:  0.10798902683270648\n",
      "guess:  [0.00906765 0.04933858]\n",
      "obj:  0.09753554731623426\n",
      "guess:  [0.00910586 0.04524926]\n",
      "obj:  0.10666250503370688\n",
      "guess:  [0.00871421 0.06459144]\n",
      "obj:  0.08337652228662519\n",
      "guess:  [0.00834167 0.08188896]\n",
      "obj:  0.08415551918938445\n",
      "guess:  [0.008676   0.06868076]\n",
      "obj:  0.07963469839832896\n",
      "guess:  [0.00846108 0.0803965 ]\n",
      "obj:  0.07697882232624506\n",
      "guess:  [0.00810764 0.09564936]\n",
      "obj:  0.08276983603484843\n",
      "guess:  [0.00785451 0.11145442]\n",
      "obj:  0.0945098878140408\n",
      "guess:  [0.00849929 0.07630719]\n",
      "obj:  0.07865923048820489\n",
      "guess:  [0.00885272 0.06105432]\n",
      "obj:  0.08589754130634966\n",
      "guess:  [0.00829391 0.0870006 ]\n",
      "obj:  0.07998308843676961\n",
      "guess:  [0.00866645 0.06970308]\n",
      "obj:  0.07890846779717592\n",
      "guess:  [0.00857332 0.07402746]\n",
      "obj:  0.07643224609550302\n",
      "guess:  [0.00853511 0.07811678]\n",
      "obj:  0.07796635373557273\n",
      "guess:  [0.00852615 0.07766438]\n",
      "obj:  0.07832162280664394\n",
      "guess:  [0.0085172  0.07721198]\n",
      "obj:  0.07867150843890336\n",
      "guess:  [0.0085363  0.07516733]\n",
      "obj:  0.07912055489331792\n",
      "guess:  [0.00855421 0.07607212]\n",
      "obj:  0.07912966816683079\n",
      "guess:  [0.00854078 0.07539352]\n",
      "obj:  0.07963489443878509\n",
      "guess:  [0.00854526 0.07561972]\n",
      "obj:  0.07946731931236908\n",
      "guess:  [0.00855481 0.07459739]\n",
      "obj:  0.07934898270582767\n",
      "guess:  [0.00858287 0.07300514]\n",
      "obj:  0.0770573069552397\n",
      "guess:  [0.00860138 0.0724352 ]\n",
      "obj:  0.07733896550146858\n",
      "guess:  [0.00858973 0.07297575]\n",
      "obj:  0.0770376934512466\n",
      "guess:  [0.00858018 0.07399808]\n",
      "obj:  0.07641289235101537\n",
      "guess:  [0.00857884 0.07449455]\n",
      "obj:  0.07992145209643055\n",
      "guess:  [0.00856376 0.07504979]\n",
      "obj:  0.07968871870640969\n",
      "guess:  [0.00858324 0.07349426]\n",
      "obj:  0.07672726313748833\n",
      "guess:  [0.00857026 0.07453128]\n",
      "obj:  0.07995676335355707\n",
      "guess:  [0.00858    0.07375352]\n",
      "obj:  0.07657428778429617\n",
      "guess:  [0.0085735  0.07427203]\n",
      "obj:  0.07687355595347387\n",
      "guess:  [0.00857837 0.07388314]\n",
      "obj:  0.07649827979709531\n",
      "guess:  [0.00857513 0.0741424 ]\n",
      "obj:  0.07634728663216568\n",
      "guess:  [0.0085735  0.07427203]\n",
      "obj:  0.07687366935398593\n",
      "guess:  [0.00858199 0.07411302]\n",
      "obj:  0.07691587219604559\n",
      "guess:  [0.00857548 0.07404885]\n",
      "obj:  0.07640602954243907\n",
      "guess:  [0.00857043 0.07419317]\n",
      "obj:  0.07634029188054388\n",
      "guess:  [0.00856555 0.07429072]\n",
      "obj:  0.07630425195721278\n",
      "guess:  [0.00856519 0.07438426]\n",
      "obj:  0.07625940300463403\n",
      "guess:  [0.00856005 0.07455197]\n",
      "obj:  0.07935613502658957\n",
      "guess:  [0.00855562 0.07453258]\n",
      "obj:  0.07937892771587719\n",
      "guess:  [0.00857025 0.07423994]\n",
      "obj:  0.07631093361743979\n",
      "guess:  [0.0085605  0.07443504]\n",
      "obj:  0.07625251771073252\n",
      "guess:  [0.00855562 0.07453258]\n",
      "obj:  0.0793788088066107\n",
      "guess:  [0.00856014 0.07452858]\n",
      "obj:  0.0793674100346282\n",
      "guess:  [0.0085642  0.07435018]\n",
      "obj:  0.07627329284134239\n"
     ]
    }
   ],
   "source": [
    "model.par.sigma=0.1\n",
    "guess = (0.0075,0.0115)\n",
    "pnames = ('eta', 'sigma')\n",
    "beta_data = (0.4,-0.1)\n",
    "bounds = ((-np.inf,np.inf),(-np.inf,np.inf))\n",
    "res = model.SMM(guess,pnames,beta_data,bounds)"
   ]
  },
  {
   "cell_type": "code",
   "execution_count": 33,
   "metadata": {},
   "outputs": [
    {
     "data": {
      "text/plain": [
       "namespace(rho=2.0,\n",
       "          nu=0.001,\n",
       "          epsilon=1.0,\n",
       "          omega=0.5,\n",
       "          alpha=0.5,\n",
       "          sigma=0.0001,\n",
       "          wM=1.0,\n",
       "          wF=0.8,\n",
       "          Tmin=0.0,\n",
       "          Tmax=24.0,\n",
       "          Lmin=0.0,\n",
       "          Lmax=24.0,\n",
       "          nL=49,\n",
       "          Hmin=0.0,\n",
       "          Hmax=24.0,\n",
       "          nH=49,\n",
       "          wF_min=0.8,\n",
       "          wF_max=1.2,\n",
       "          nwF=5,\n",
       "          L_vec=array([ 0. ,  0.5,  1. ,  1.5,  2. ,  2.5,  3. ,  3.5,  4. ,  4.5,  5. ,\n",
       "                        5.5,  6. ,  6.5,  7. ,  7.5,  8. ,  8.5,  9. ,  9.5, 10. , 10.5,\n",
       "                       11. , 11.5, 12. , 12.5, 13. , 13.5, 14. , 14.5, 15. , 15.5, 16. ,\n",
       "                       16.5, 17. , 17.5, 18. , 18.5, 19. , 19.5, 20. , 20.5, 21. , 21.5,\n",
       "                       22. , 22.5, 23. , 23.5, 24. ]),\n",
       "          H_vec=array([ 0. ,  0.5,  1. ,  1.5,  2. ,  2.5,  3. ,  3.5,  4. ,  4.5,  5. ,\n",
       "                        5.5,  6. ,  6.5,  7. ,  7.5,  8. ,  8.5,  9. ,  9.5, 10. , 10.5,\n",
       "                       11. , 11.5, 12. , 12.5, 13. , 13.5, 14. , 14.5, 15. , 15.5, 16. ,\n",
       "                       16.5, 17. , 17.5, 18. , 18.5, 19. , 19.5, 20. , 20.5, 21. , 21.5,\n",
       "                       22. , 22.5, 23. , 23.5, 24. ]),\n",
       "          wF_vec=array([0.8, 0.9, 1. , 1.1, 1.2]),\n",
       "          mu=0.01559375000000001)"
      ]
     },
     "execution_count": 33,
     "metadata": {},
     "output_type": "execute_result"
    }
   ],
   "source": [
    "model.par"
   ]
  },
  {
   "cell_type": "code",
   "execution_count": 52,
   "metadata": {},
   "outputs": [
    {
     "data": {
      "text/plain": [
       "array([0.0085605 , 0.07443504])"
      ]
     },
     "execution_count": 52,
     "metadata": {},
     "output_type": "execute_result"
    }
   ],
   "source": [
    "res.x"
   ]
  },
  {
   "cell_type": "code",
   "execution_count": 53,
   "metadata": {},
   "outputs": [
    {
     "data": {
      "text/plain": [
       "array([ 0.12764402, -0.14577678])"
      ]
     },
     "execution_count": 53,
     "metadata": {},
     "output_type": "execute_result"
    }
   ],
   "source": [
    "model.estimate_beta()"
   ]
  },
  {
   "cell_type": "markdown",
   "metadata": {},
   "source": [
    "# Question 2"
   ]
  },
  {
   "cell_type": "markdown",
   "metadata": {},
   "source": [
    "Explain your code and procedure"
   ]
  },
  {
   "cell_type": "code",
   "execution_count": 3,
   "metadata": {},
   "outputs": [],
   "source": [
    "# code"
   ]
  },
  {
   "cell_type": "markdown",
   "metadata": {},
   "source": [
    "# Question 3"
   ]
  },
  {
   "cell_type": "markdown",
   "metadata": {},
   "source": [
    "Explain your code and procedure"
   ]
  },
  {
   "cell_type": "code",
   "execution_count": 4,
   "metadata": {},
   "outputs": [],
   "source": [
    "# code"
   ]
  },
  {
   "cell_type": "markdown",
   "metadata": {},
   "source": [
    "ADD CONCISE CONLUSION."
   ]
  }
 ],
 "metadata": {
  "kernelspec": {
   "display_name": "base",
   "language": "python",
   "name": "python3"
  },
  "language_info": {
   "codemirror_mode": {
    "name": "ipython",
    "version": 3
   },
   "file_extension": ".py",
   "mimetype": "text/x-python",
   "name": "python",
   "nbconvert_exporter": "python",
   "pygments_lexer": "ipython3",
   "version": "3.9.7"
  },
  "toc-autonumbering": true,
  "vscode": {
   "interpreter": {
    "hash": "47ef90cdf3004d3f859f1fb202523c65c07ba7c22eefd261b181f4744e2d0403"
   }
  }
 },
 "nbformat": 4,
 "nbformat_minor": 4
}
