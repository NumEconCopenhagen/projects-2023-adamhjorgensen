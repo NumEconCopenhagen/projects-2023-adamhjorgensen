{
 "cells": [
  {
   "cell_type": "markdown",
   "metadata": {},
   "source": [
    "# Inaugural Project"
   ]
  },
  {
   "cell_type": "markdown",
   "metadata": {},
   "source": [
    "Imports and set magics:"
   ]
  },
  {
   "cell_type": "code",
   "execution_count": 1,
   "metadata": {},
   "outputs": [],
   "source": [
    "#Import packages\n",
    "import numpy as np\n",
    "import warnings\n",
    "\n",
    "# autoreload modules when code is run. Otherwise, python will not see recent changes. \n",
    "%load_ext autoreload\n",
    "%autoreload 2\n",
    "\n",
    "#Ignore warning\n",
    "warnings.filterwarnings('ignore', category=RuntimeWarning)\n",
    "\n",
    "# Import your own code\n",
    "from CouplesModel import CouplesModel"
   ]
  },
  {
   "cell_type": "markdown",
   "metadata": {},
   "source": [
    "# Question 1"
   ]
  },
  {
   "attachments": {},
   "cell_type": "markdown",
   "metadata": {},
   "source": [
    "The model is specified in a class called CouplesClass. The class includes all model equations as well as methods for solving and simulating the model.\n",
    "\n",
    "I create an instance of the model:"
   ]
  },
  {
   "cell_type": "code",
   "execution_count": 2,
   "metadata": {},
   "outputs": [],
   "source": [
    "model = CouplesModel()"
   ]
  },
  {
   "attachments": {},
   "cell_type": "markdown",
   "metadata": {},
   "source": [
    "To solve the model using a discrete grid, I call the solve_discrete method. The procedure goes like this:\n",
    "- Calculate the value of choice for all possible choices\n",
    "- Check if the conditions aren't violated, else set value to negative infinity\n",
    "- Find the maximum value, and corresponding choices"
   ]
  },
  {
   "cell_type": "code",
   "execution_count": 3,
   "metadata": {},
   "outputs": [],
   "source": [
    "model.solve(method='discrete')"
   ]
  },
  {
   "attachments": {},
   "cell_type": "markdown",
   "metadata": {},
   "source": [
    "I know calculate HF/HM for different sets of parameters and make a table"
   ]
  },
  {
   "cell_type": "code",
   "execution_count": 4,
   "metadata": {},
   "outputs": [
    {
     "name": "stdout",
     "output_type": "stream",
     "text": [
      "Table 1: Relative labor in home production, HF/HM\n",
      "--------------------------------------------------\n",
      "alpha \\ sigma|       0.5      1.00      1.50     \n",
      "-------------+------------------------------------\n",
      "     0.25    |      0.55      0.31      0.21\n",
      "     0.50    |      1.00      1.00      1.00\n",
      "     0.75    |      1.83      3.25      4.67\n",
      "--------------------------------------------------\n"
     ]
    }
   ],
   "source": [
    "#a. Setup for table\n",
    "alpha = [0.25,0.5,0.75] #alpha grid\n",
    "sigma = [0.5,1.0,1.5] #sigma grid\n",
    "\n",
    "#b. Make table\n",
    "#i. Print title and line seperator\n",
    "title = 'Table 1: Relative labor in home production, HF/HM'\n",
    "print(title)\n",
    "print('-'*50) #line seperator\n",
    "\n",
    "#ii. Print header and line seperator\n",
    "header = rf\"alpha \\ sigma|{sigma[0]:10.2}{sigma[1]:10.2f}{sigma[2]:10.2f}     \"\n",
    "print(header)\n",
    "print(f\"{'-'*len(header[:header.index('|')])}+{'-'*len(header[header.index('|'):])}\") #line seperator\n",
    "\n",
    "#iii. Print main table\n",
    "for a in alpha:\n",
    "    #o. Print index with alpha values\n",
    "    row = f\"{a:9.2f}    |\"\n",
    "    \n",
    "    #oo. Add output to string one-by-one through loop\n",
    "    for s in sigma:\n",
    "        #1. Set up and solve model based on alpha and sigma values\n",
    "        temp = CouplesModel(**{'alpha':a,'sigma':s})\n",
    "        temp.solve(method='discrete')\n",
    "        \n",
    "        #2. Calculate output\n",
    "        out = temp.sol_disc.HF / temp.sol_disc.HM\n",
    "        \n",
    "        #3. Add output to string\n",
    "        row += f\"{out:10.2f}\"\n",
    "    \n",
    "    #ooo. Print string\n",
    "    print(row)\n",
    "print('-'*50)\n",
    "        "
   ]
  },
  {
   "attachments": {},
   "cell_type": "markdown",
   "metadata": {},
   "source": [
    "## Question 2"
   ]
  },
  {
   "attachments": {},
   "cell_type": "markdown",
   "metadata": {},
   "source": [
    "I calculate log(HF/HM) for different wF values using the method solve_wF_vec"
   ]
  },
  {
   "cell_type": "code",
   "execution_count": 5,
   "metadata": {},
   "outputs": [],
   "source": [
    "model.solve_wF_vec(discrete=True)"
   ]
  },
  {
   "attachments": {},
   "cell_type": "markdown",
   "metadata": {},
   "source": [
    "I plot log(HF/HM) against log(wF/wM) using the method plot"
   ]
  },
  {
   "cell_type": "code",
   "execution_count": 6,
   "metadata": {},
   "outputs": [
    {
     "data": {
      "image/png": "[encoded data removed]",
      "text/plain": [
       "<Figure size 640x480 with 1 Axes>"
      ]
     },
     "metadata": {},
     "output_type": "display_data"
    }
   ],
   "source": [
    "model.plot(discrete=True)"
   ]
  },
  {
   "attachments": {},
   "cell_type": "markdown",
   "metadata": {},
   "source": [
    "It seems like there is no difference in the relative time spend on home production for wF=-0.10 and wF=0.00. I believe this is a result of solving the model with a discrete grid. The optimal HF and HM happens to be the same in the two cases, but only because the agents can't perfectly choose any HF and HM they want to."
   ]
  },
  {
   "attachments": {},
   "cell_type": "markdown",
   "metadata": {},
   "source": [
    "## Question 3"
   ]
  },
  {
   "attachments": {},
   "cell_type": "markdown",
   "metadata": {},
   "source": [
    "I solve the model with a continuous choice set using the method solve_continuous. I use the solver 'SLSQP' and an initial guess of 4.0 for all labor hours. "
   ]
  },
  {
   "cell_type": "code",
   "execution_count": 7,
   "metadata": {},
   "outputs": [
    {
     "data": {
      "text/plain": [
       "namespace(LM=4.4544937223044085,\n",
       "          LF=4.454493707174154,\n",
       "          HM=4.454493881961848,\n",
       "          HF=4.454493888759791,\n",
       "          V=-0.23811015779271066)"
      ]
     },
     "execution_count": 7,
     "metadata": {},
     "output_type": "execute_result"
    }
   ],
   "source": [
    "model.solve_continuous()\n",
    "model.sol_cont"
   ]
  },
  {
   "attachments": {},
   "cell_type": "markdown",
   "metadata": {},
   "source": [
    "I calculate log(HF/HM) for different wF values using the method solve_wF_vec"
   ]
  },
  {
   "cell_type": "code",
   "execution_count": 8,
   "metadata": {},
   "outputs": [],
   "source": [
    "model.solve_wF_vec()"
   ]
  },
  {
   "attachments": {},
   "cell_type": "markdown",
   "metadata": {},
   "source": [
    "I plot log(HF/HM) against log(wF/wM) using the method plot"
   ]
  },
  {
   "cell_type": "code",
   "execution_count": 9,
   "metadata": {},
   "outputs": [
    {
     "data": {
      "image/png": "[encoded data removed]",
      "text/plain": [
       "<Figure size 640x480 with 1 Axes>"
      ]
     },
     "metadata": {},
     "output_type": "display_data"
    }
   ],
   "source": [
    "model.plot()"
   ]
  },
  {
   "attachments": {},
   "cell_type": "markdown",
   "metadata": {},
   "source": [
    "This shows that the relative time spent on domestic work changes with wF. This suggests that the discrete grid used in question 2 was too sparse and couldn't propperly capture the dynamics."
   ]
  },
  {
   "attachments": {},
   "cell_type": "markdown",
   "metadata": {},
   "source": [
    "## Question 4"
   ]
  },
  {
   "attachments": {},
   "cell_type": "markdown",
   "metadata": {},
   "source": [
    "To find an $\\alpha$ and $\\sigma$ that minimizes $(\\beta_0-\\hat{\\beta}_0)^2+(\\beta_1-\\hat{\\beta}_1)^2$ I use a Simulated Minimum Distance estimator (SMD). The idea is to simulate the moments ($\\hat{\\beta}_0$,$\\hat{\\beta}_1$) using the model, and find the minimum distance to the moments in the data ($\\beta_0$, $\\beta_1$), then update the parameters and try again until convergence. The procedure goes like this:\n",
    "1. Set initial $\\alpha$, $\\sigma$\n",
    "2. Calculate $\\hat{\\beta}_0$,$\\hat{\\beta}_1$\n",
    "3. Evaluate squared distance in moments, $(\\beta_0-\\hat{\\beta}_0)^2+(\\beta_1-\\hat{\\beta}_1)^2$\n",
    "4. If distance is 0, or there is convergence, then terminate; else update $\\alpha$, $\\sigma$ and return to step 2.\n",
    "\n",
    "I have nested this procedure in the method SMD. Here I apply a solver (Nelder-Mead) to evaluate the objective function (the squared moments) given by the method SMD_obj. For each guess the parameters are updated, the model is solved again, and $\\hat{\\beta}_0$,$\\hat{\\beta}_1$ are calculated using the method simulate_moments. Notice that simulate_moments calls the method estimate_beta to calculate $\\hat{\\beta}_0$,$\\hat{\\beta}_1$."
   ]
  },
  {
   "cell_type": "code",
   "execution_count": 10,
   "metadata": {},
   "outputs": [
    {
     "name": "stdout",
     "output_type": "stream",
     "text": [
      "Iteration:   1,   Guess: ['0.5000', '1.0000'],   Objective function:  0.97004031,   LF_vec: ['2.87', '3.75', '4.45', '5.02', '5.48']\n",
      "Iteration:   2,   Guess: ['0.5250', '1.0000'],   Objective function:  0.90002892,   LF_vec: ['2.61', '3.51', '4.23', '4.81', '5.28']\n",
      "Iteration:   3,   Guess: ['0.5000', '1.0500'],   Objective function:  1.06254119,   LF_vec: ['2.84', '3.74', '4.45', '5.03', '5.50']\n",
      "Iteration:   4,   Guess: ['0.5250', '0.9500'],   Objective function:  0.81556133,   LF_vec: ['2.65', '3.53', '4.24', '4.81', '5.27']\n",
      "Iteration:   5,   Guess: ['0.5375', '0.9000'],   Objective function:  0.71006367,   LF_vec: ['2.58', '3.45', '4.15', '4.72', '5.17']\n",
      "Iteration:   6,   Guess: ['0.5625', '0.9000'],   Objective function:  0.67156796,   LF_vec: ['2.34', '3.23', '3.95', '4.53', '4.99']\n",
      "Iteration:   7,   Guess: ['0.5938', '0.8500'],   Objective function:  0.56850601,   LF_vec: ['2.12', '3.02', '3.73', '4.31', '4.78']\n",
      "Iteration:   8,   Guess: ['0.6062', '0.7500'],   Objective function:  0.42834900,   LF_vec: ['2.18', '3.04', '3.73', '4.29', '4.74']\n",
      "Iteration:   9,   Guess: ['0.6469', '0.6250'],   Objective function:  0.27611794,   LF_vec: ['2.11', '2.93', '3.61', '4.15', '4.59']\n",
      "Iteration:  10,   Guess: ['0.7031', '0.5750'],   Objective function:  0.23478995,   LF_vec: ['1.83', '2.67', '3.34', '3.89', '4.34']\n",
      "Iteration:  20,   Guess: ['0.8875', '0.1000'],   Objective function:  0.03742383,   LF_vec: ['2.83', '3.46', '3.97', '4.38', '4.72']\n",
      "Iteration:  30,   Guess: ['0.9999', '0.0828'],   Objective function:  0.13186445,   LF_vec: ['1.40', '2.12', '2.71', '3.19', '3.59']\n",
      "Iteration:  40,   Guess: ['0.9717', '0.1081'],   Objective function:  0.00037395,   LF_vec: ['2.35', '3.01', '3.55', '3.98', '4.34']\n",
      "Iteration:  50,   Guess: ['0.9796', '0.1029'],   Objective function:  0.00001147,   LF_vec: ['2.31', '2.97', '3.51', '3.95', '4.30']\n",
      "Iteration:  60,   Guess: ['0.9827', '0.0993'],   Objective function:  0.00000182,   LF_vec: ['2.30', '2.96', '3.50', '3.94', '4.30']\n",
      "Iteration:  70,   Guess: ['0.9821', '0.0998'],   Objective function:  0.00000013,   LF_vec: ['2.31', '2.96', '3.50', '3.94', '4.30']\n",
      "Iteration:  80,   Guess: ['0.9820', '0.1001'],   Objective function:  0.00000000,   LF_vec: ['2.31', '2.96', '3.50', '3.94', '4.30']\n",
      "Iteration:  90,   Guess: ['0.9820', '0.1000'],   Objective function:  0.00000000,   LF_vec: ['2.31', '2.96', '3.50', '3.94', '4.30']\n",
      "Iteration: 100,   Guess: ['0.9820', '0.1000'],   Objective function:  0.00000000,   LF_vec: ['2.31', '2.96', '3.50', '3.94', '4.30']\n",
      "Iteration: 110,   Guess: ['0.9820', '0.1000'],   Objective function:  0.00000000,   LF_vec: ['2.31', '2.96', '3.50', '3.94', '4.30']\n",
      "Iteration: 120,   Guess: ['0.9820', '0.1000'],   Objective function:  0.00000000,   LF_vec: ['2.31', '2.96', '3.50', '3.94', '4.30']\n"
     ]
    }
   ],
   "source": [
    "#Setup\n",
    "guess = (0.5,1.) #initial guess on parameters\n",
    "pnames = ('alpha', 'sigma') #parameter names - these will be estimated\n",
    "beta_data = (0.4,-0.1) #data for beta (target to match)\n",
    "bounds = ((0.0001,0.9999),(0.001,np.inf)) #bounds for parameters\n",
    "\n",
    "#Estimate\n",
    "res = model.SMD(guess,pnames,beta_data,bounds)"
   ]
  },
  {
   "attachments": {},
   "cell_type": "markdown",
   "metadata": {},
   "source": [
    "Check solver status"
   ]
  },
  {
   "cell_type": "code",
   "execution_count": 11,
   "metadata": {},
   "outputs": [
    {
     "data": {
      "text/plain": [
       "       message: Optimization terminated successfully.\n",
       "       success: True\n",
       "        status: 0\n",
       "           fun: 3.207723637823106e-17\n",
       "             x: [ 9.820e-01  1.000e-01]\n",
       "           nit: 62\n",
       "          nfev: 127\n",
       " final_simplex: (array([[ 9.820e-01,  1.000e-01],\n",
       "                       [ 9.820e-01,  1.000e-01],\n",
       "                       [ 9.820e-01,  1.000e-01]]), array([ 3.208e-17,  4.333e-17,  5.274e-15]))"
      ]
     },
     "execution_count": 11,
     "metadata": {},
     "output_type": "execute_result"
    }
   ],
   "source": [
    "res"
   ]
  },
  {
   "attachments": {},
   "cell_type": "markdown",
   "metadata": {},
   "source": [
    "Check beta estimates from model"
   ]
  },
  {
   "cell_type": "code",
   "execution_count": 12,
   "metadata": {},
   "outputs": [
    {
     "data": {
      "text/plain": [
       "array([ 0.4       , -0.09999999])"
      ]
     },
     "execution_count": 12,
     "metadata": {},
     "output_type": "execute_result"
    }
   ],
   "source": [
    "model.updatepar(pnames,res.x)\n",
    "model.solve_wF_vec()\n",
    "model.estimate_beta()"
   ]
  },
  {
   "attachments": {},
   "cell_type": "markdown",
   "metadata": {},
   "source": [
    "I fit the data with paramter estimates of $\\alpha=0.98, \\sigma=0.10$. The interpretation would be that female labor in house production is much more productive. Male and female labor is complementary, so the male part also provides some labor."
   ]
  },
  {
   "attachments": {},
   "cell_type": "markdown",
   "metadata": {},
   "source": [
    "## Question 5"
   ]
  },
  {
   "attachments": {},
   "cell_type": "markdown",
   "metadata": {},
   "source": [
    "I extend the model by including a measure of relative income in the utility function. The interpretation is that the household prefers that one spouse has a higher income. This can be to fit into social gender norms. The utility function then becomes\n",
    "$$\n",
    "\\frac{Q^{1-\\rho}}{1-\\rho} - \\nu \\left( \\frac{T_M^{1 + \\frac{1}{\\epsilon}}} {1 + \\frac{1}{\\epsilon}} + \\frac{T_F^{1 + \\frac{1}{\\epsilon}}} {1 + \\frac{1}{\\epsilon}} \\right) + \\xi \\frac{(\\frac{w_M L_M}{w_F L_F})^{1-\\eta}}{1-\\eta}\n",
    "$$\n",
    "\n",
    "I set $\\alpha=0.5, $\\sigma=1.0$ and estimate $\\xi$ and $\\eta$."
   ]
  },
  {
   "cell_type": "code",
   "execution_count": 13,
   "metadata": {},
   "outputs": [
    {
     "name": "stdout",
     "output_type": "stream",
     "text": [
      "Iteration:   1,   Guess: ['0.0000', '1.0000'],   Objective function:  0.97004031,   LF_vec: ['2.87', '3.75', '4.45', '5.02', '5.48']\n",
      "Iteration:   2,   Guess: ['0.0003', '1.0000'],   Objective function:  0.96307622,   LF_vec: ['2.74', '3.65', '4.37', '4.94', '5.40']\n",
      "Iteration:   3,   Guess: ['0.0000', '1.0500'],   Objective function:  0.97004031,   LF_vec: ['2.87', '3.75', '4.45', '5.02', '5.48']\n",
      "Iteration:   4,   Guess: ['0.0003', '0.9500'],   Objective function:  0.96879141,   LF_vec: ['2.74', '3.65', '4.37', '4.94', '5.40']\n",
      "Iteration:   5,   Guess: ['0.0005', '0.9500'],   Objective function:  0.97543246,   LF_vec: ['2.59', '3.55', '4.28', '4.86', '5.32']\n",
      "Iteration:   6,   Guess: ['0.0001', '0.9875'],   Objective function:  0.96640123,   LF_vec: ['2.81', '3.70', '4.41', '4.98', '5.44']\n",
      "Iteration:   7,   Guess: ['0.0001', '1.0375'],   Objective function:  0.96365004,   LF_vec: ['2.81', '3.70', '4.41', '4.98', '5.44']\n",
      "Iteration:   8,   Guess: ['0.0003', '1.0500'],   Objective function:  0.95751226,   LF_vec: ['2.75', '3.66', '4.37', '4.94', '5.39']\n",
      "Iteration:   9,   Guess: ['0.0003', '1.0813'],   Objective function:  0.95115559,   LF_vec: ['2.72', '3.63', '4.35', '4.92', '5.37']\n",
      "Iteration:  10,   Guess: ['0.0004', '1.0438'],   Objective function:  0.95376550,   LF_vec: ['2.65', '3.58', '4.31', '4.88', '5.33']\n",
      "Iteration:  20,   Guess: ['0.0031', '2.4563'],   Objective function:  0.35177236,   LF_vec: ['2.54', '3.25', '3.75', '4.09', '4.30']\n",
      "Iteration:  30,   Guess: ['0.0201', '10.3305'],   Objective function:  0.10622834,   LF_vec: ['2.87', '3.65', '3.85', '3.79', '3.67']\n",
      "Iteration:  40,   Guess: ['0.0143', '6.9248'],   Objective function:  0.09874028,   LF_vec: ['2.85', '3.51', '3.71', '3.70', '3.62']\n",
      "Iteration:  50,   Guess: ['0.0205', '2.9146'],   Objective function:  0.04103409,   LF_vec: ['1.96', '2.36', '2.58', '2.70', '2.75']\n",
      "Iteration:  60,   Guess: ['0.0255', '2.5368'],   Objective function:  0.02707098,   LF_vec: ['1.42', '1.79', '2.02', '2.16', '2.25']\n",
      "Iteration:  70,   Guess: ['0.0555', '2.5907'],   Objective function:  0.00245521,   LF_vec: ['0.89', '1.12', '1.27', '1.36', '1.41']\n",
      "Iteration:  80,   Guess: ['0.0708', '2.9117'],   Objective function:  0.00027179,   LF_vec: ['1.19', '1.40', '1.51', '1.56', '1.58']\n",
      "Iteration:  90,   Guess: ['0.0844', '2.8902'],   Objective function:  0.00008560,   LF_vec: ['1.05', '1.24', '1.34', '1.38', '1.40']\n",
      "Iteration: 100,   Guess: ['0.0828', '2.9336'],   Objective function:  0.00000193,   LF_vec: ['1.12', '1.31', '1.41', '1.45', '1.47']\n",
      "Iteration: 110,   Guess: ['0.0830', '2.9449'],   Objective function:  0.00000000,   LF_vec: ['1.13', '1.32', '1.42', '1.46', '1.48']\n",
      "Iteration: 120,   Guess: ['0.0829', '2.9441'],   Objective function:  0.00000000,   LF_vec: ['1.13', '1.32', '1.42', '1.46', '1.48']\n",
      "Iteration: 130,   Guess: ['0.0829', '2.9444'],   Objective function:  0.00000000,   LF_vec: ['1.13', '1.32', '1.42', '1.46', '1.48']\n",
      "Iteration: 140,   Guess: ['0.0829', '2.9443'],   Objective function:  0.00000000,   LF_vec: ['1.13', '1.32', '1.42', '1.46', '1.48']\n",
      "Iteration: 150,   Guess: ['0.0829', '2.9443'],   Objective function:  0.00000000,   LF_vec: ['1.13', '1.32', '1.42', '1.46', '1.48']\n",
      "Iteration: 160,   Guess: ['0.0829', '2.9443'],   Objective function:  0.00000000,   LF_vec: ['1.13', '1.32', '1.42', '1.46', '1.48']\n"
     ]
    }
   ],
   "source": [
    "model.par.alpha=0.5\n",
    "model.par.sigma=1.0\n",
    "guess = (0.0,1.0,)\n",
    "pnames = ('xi','eta')\n",
    "beta_data = (0.4,-0.1)\n",
    "bounds = ((-np.inf,np.inf),(0.001,np.inf))\n",
    "res = model.SMD(guess,pnames,beta_data,bounds, tol=1e-06)"
   ]
  },
  {
   "attachments": {},
   "cell_type": "markdown",
   "metadata": {},
   "source": [
    "Check solver status"
   ]
  },
  {
   "cell_type": "code",
   "execution_count": 14,
   "metadata": {},
   "outputs": [
    {
     "data": {
      "text/plain": [
       "       message: Optimization terminated successfully.\n",
       "       success: True\n",
       "        status: 0\n",
       "           fun: 1.4722662618343196e-14\n",
       "             x: [ 8.295e-02  2.944e+00]\n",
       "           nit: 89\n",
       "          nfev: 165\n",
       " final_simplex: (array([[ 8.295e-02,  2.944e+00],\n",
       "                       [ 8.295e-02,  2.944e+00],\n",
       "                       [ 8.295e-02,  2.944e+00]]), array([ 1.472e-14,  5.736e-14,  8.370e-13]))"
      ]
     },
     "execution_count": 14,
     "metadata": {},
     "output_type": "execute_result"
    }
   ],
   "source": [
    "res"
   ]
  },
  {
   "attachments": {},
   "cell_type": "markdown",
   "metadata": {},
   "source": [
    "Check beta estimate"
   ]
  },
  {
   "cell_type": "code",
   "execution_count": 15,
   "metadata": {},
   "outputs": [
    {
     "data": {
      "text/plain": [
       "array([ 0.40000012, -0.09999999])"
      ]
     },
     "execution_count": 15,
     "metadata": {},
     "output_type": "execute_result"
    }
   ],
   "source": [
    "model.updatepar(pnames,res.x)\n",
    "model.solve_wF_vec()\n",
    "model.estimate_beta()"
   ]
  },
  {
   "attachments": {},
   "cell_type": "markdown",
   "metadata": {},
   "source": [
    "I match the data with this extension. I estimate $\\xi=0.8 and \\eta=2.94. This suggests that the household prefers that one spouse has a higher income. With this extension I can match the data although spouses are equally productive in home production and labor inputs are relatively substitutable."
   ]
  },
  {
   "cell_type": "markdown",
   "metadata": {},
   "source": []
  }
 ],
 "metadata": {
  "kernelspec": {
   "display_name": "base",
   "language": "python",
   "name": "python3"
  },
  "language_info": {
   "codemirror_mode": {
    "name": "ipython",
    "version": 3
   },
   "file_extension": ".py",
   "mimetype": "text/x-python",
   "name": "python",
   "nbconvert_exporter": "python",
   "pygments_lexer": "ipython3",
   "version": "3.9.7"
  },
  "toc-autonumbering": true,
  "vscode": {
   "interpreter": {
    "hash": "47ef90cdf3004d3f859f1fb202523c65c07ba7c22eefd261b181f4744e2d0403"
   }
  }
 },
 "nbformat": 4,
 "nbformat_minor": 4
}
